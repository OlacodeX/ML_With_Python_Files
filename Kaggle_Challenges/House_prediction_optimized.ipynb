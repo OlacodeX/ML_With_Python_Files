{
 "cells": [
  {
   "cell_type": "markdown",
   "id": "555135f2",
   "metadata": {},
   "source": [
    "### Import libraries"
   ]
  },
  {
   "cell_type": "code",
   "execution_count": 1,
   "id": "0f7c9ba0",
   "metadata": {},
   "outputs": [],
   "source": [
    "import pandas as pd\n",
    "import numpy as np\n",
    "from sklearn.model_selection import train_test_split\n",
    "from sklearn.impute import SimpleImputer\n",
    "# The simpleImputer helps to handle missing data\n",
    "# See usage and parameters passed in one of the cells below"
   ]
  },
  {
   "cell_type": "code",
   "execution_count": 2,
   "id": "627401e7",
   "metadata": {},
   "outputs": [],
   "source": [
    "# Read the data\n",
    "train_data = pd.read_csv('../files/train.csv')\n",
    "test_data = pd.read_csv('../files/test.csv')"
   ]
  },
  {
   "cell_type": "code",
   "execution_count": 3,
   "id": "b93b3c42",
   "metadata": {},
   "outputs": [],
   "source": [
    "#seperate the target variable\n",
    "train_data_y = train_data['SalePrice']\n",
    "\n",
    "#exclude Id columns from train(and the saleprice column) and test(didn't come with the saleprice by default) data\n",
    "train_data = train_data.drop(['Id', 'SalePrice'], axis = 1)\n",
    "test_data = test_data.drop(['Id'], axis = 1)\n",
    "# This line of code removes the rows with null values, the subset method specifies where to look for NULL values"
   ]
  },
  {
   "cell_type": "code",
   "execution_count": 4,
   "id": "d8f7419c",
   "metadata": {},
   "outputs": [],
   "source": [
    "#due to the fact that train and test data do not have the same amount of columns we will train the models with the intersection of their columns\n",
    "common_columns = train_data.columns.intersection(test_data.columns)\n",
    "train_data = train_data[common_columns]\n",
    "test_data = test_data[common_columns]"
   ]
  },
  {
   "cell_type": "code",
   "execution_count": 5,
   "id": "4b092ec1",
   "metadata": {},
   "outputs": [],
   "source": [
    "#create a dataframe named as train_data_numeric from train data and fill the missing values with the mean from each columns using the Imputer class\n",
    "train_data_numeric = train_data.select_dtypes(exclude=['object'])\n",
    "# the .select_dtypes(exclude=['object']) selects all column types excluding ones with object data types.\n",
    "train_data_numeric_columns = train_data_numeric.columns #get the column names "
   ]
  },
  {
   "cell_type": "code",
   "execution_count": 6,
   "id": "1690f6ee",
   "metadata": {},
   "outputs": [],
   "source": [
    "# missing_values : The missing_values placeholder which has to be imputed. By default is NaN \n",
    "# strategy : The data which will replace the NaN values from the dataset. The strategy argument can take the values – ‘mean'(default), ‘median’, ‘most_frequent(for mode)’ and ‘constant’. \n",
    "# The strategy should be choosen based on the column(s) data type. For example X dataframe has integers as column datatypes hence I use the mean to impute\n",
    "# If I have onehot coded values of say 0,1,2 alternating values, I will use say the mode.\n",
    "# fill_value : The constant value to be given to the NaN data using the constant strategy.\n",
    "my_imputer = SimpleImputer(missing_values=np.nan, strategy='mean')\n",
    "train_data_numeric = my_imputer.fit_transform(train_data_numeric)\n",
    "# convert to a df\n",
    "train_data_numeric = pd.DataFrame(train_data_numeric, columns = train_data_numeric_columns)"
   ]
  },
  {
   "cell_type": "code",
   "execution_count": 7,
   "id": "dde2f619",
   "metadata": {},
   "outputs": [
    {
     "data": {
      "text/html": [
       "<div>\n",
       "<style scoped>\n",
       "    .dataframe tbody tr th:only-of-type {\n",
       "        vertical-align: middle;\n",
       "    }\n",
       "\n",
       "    .dataframe tbody tr th {\n",
       "        vertical-align: top;\n",
       "    }\n",
       "\n",
       "    .dataframe thead th {\n",
       "        text-align: right;\n",
       "    }\n",
       "</style>\n",
       "<table border=\"1\" class=\"dataframe\">\n",
       "  <thead>\n",
       "    <tr style=\"text-align: right;\">\n",
       "      <th></th>\n",
       "      <th>MSSubClass</th>\n",
       "      <th>LotFrontage</th>\n",
       "      <th>LotArea</th>\n",
       "      <th>OverallQual</th>\n",
       "      <th>OverallCond</th>\n",
       "      <th>YearBuilt</th>\n",
       "      <th>YearRemodAdd</th>\n",
       "      <th>MasVnrArea</th>\n",
       "      <th>BsmtFinSF1</th>\n",
       "      <th>BsmtFinSF2</th>\n",
       "      <th>...</th>\n",
       "      <th>GarageArea</th>\n",
       "      <th>WoodDeckSF</th>\n",
       "      <th>OpenPorchSF</th>\n",
       "      <th>EnclosedPorch</th>\n",
       "      <th>3SsnPorch</th>\n",
       "      <th>ScreenPorch</th>\n",
       "      <th>PoolArea</th>\n",
       "      <th>MiscVal</th>\n",
       "      <th>MoSold</th>\n",
       "      <th>YrSold</th>\n",
       "    </tr>\n",
       "  </thead>\n",
       "  <tbody>\n",
       "    <tr>\n",
       "      <th>0</th>\n",
       "      <td>60.0</td>\n",
       "      <td>65.0</td>\n",
       "      <td>8450.0</td>\n",
       "      <td>7.0</td>\n",
       "      <td>5.0</td>\n",
       "      <td>2003.0</td>\n",
       "      <td>2003.0</td>\n",
       "      <td>196.0</td>\n",
       "      <td>706.0</td>\n",
       "      <td>0.0</td>\n",
       "      <td>...</td>\n",
       "      <td>548.0</td>\n",
       "      <td>0.0</td>\n",
       "      <td>61.0</td>\n",
       "      <td>0.0</td>\n",
       "      <td>0.0</td>\n",
       "      <td>0.0</td>\n",
       "      <td>0.0</td>\n",
       "      <td>0.0</td>\n",
       "      <td>2.0</td>\n",
       "      <td>2008.0</td>\n",
       "    </tr>\n",
       "    <tr>\n",
       "      <th>1</th>\n",
       "      <td>20.0</td>\n",
       "      <td>80.0</td>\n",
       "      <td>9600.0</td>\n",
       "      <td>6.0</td>\n",
       "      <td>8.0</td>\n",
       "      <td>1976.0</td>\n",
       "      <td>1976.0</td>\n",
       "      <td>0.0</td>\n",
       "      <td>978.0</td>\n",
       "      <td>0.0</td>\n",
       "      <td>...</td>\n",
       "      <td>460.0</td>\n",
       "      <td>298.0</td>\n",
       "      <td>0.0</td>\n",
       "      <td>0.0</td>\n",
       "      <td>0.0</td>\n",
       "      <td>0.0</td>\n",
       "      <td>0.0</td>\n",
       "      <td>0.0</td>\n",
       "      <td>5.0</td>\n",
       "      <td>2007.0</td>\n",
       "    </tr>\n",
       "    <tr>\n",
       "      <th>2</th>\n",
       "      <td>60.0</td>\n",
       "      <td>68.0</td>\n",
       "      <td>11250.0</td>\n",
       "      <td>7.0</td>\n",
       "      <td>5.0</td>\n",
       "      <td>2001.0</td>\n",
       "      <td>2002.0</td>\n",
       "      <td>162.0</td>\n",
       "      <td>486.0</td>\n",
       "      <td>0.0</td>\n",
       "      <td>...</td>\n",
       "      <td>608.0</td>\n",
       "      <td>0.0</td>\n",
       "      <td>42.0</td>\n",
       "      <td>0.0</td>\n",
       "      <td>0.0</td>\n",
       "      <td>0.0</td>\n",
       "      <td>0.0</td>\n",
       "      <td>0.0</td>\n",
       "      <td>9.0</td>\n",
       "      <td>2008.0</td>\n",
       "    </tr>\n",
       "    <tr>\n",
       "      <th>3</th>\n",
       "      <td>70.0</td>\n",
       "      <td>60.0</td>\n",
       "      <td>9550.0</td>\n",
       "      <td>7.0</td>\n",
       "      <td>5.0</td>\n",
       "      <td>1915.0</td>\n",
       "      <td>1970.0</td>\n",
       "      <td>0.0</td>\n",
       "      <td>216.0</td>\n",
       "      <td>0.0</td>\n",
       "      <td>...</td>\n",
       "      <td>642.0</td>\n",
       "      <td>0.0</td>\n",
       "      <td>35.0</td>\n",
       "      <td>272.0</td>\n",
       "      <td>0.0</td>\n",
       "      <td>0.0</td>\n",
       "      <td>0.0</td>\n",
       "      <td>0.0</td>\n",
       "      <td>2.0</td>\n",
       "      <td>2006.0</td>\n",
       "    </tr>\n",
       "    <tr>\n",
       "      <th>4</th>\n",
       "      <td>60.0</td>\n",
       "      <td>84.0</td>\n",
       "      <td>14260.0</td>\n",
       "      <td>8.0</td>\n",
       "      <td>5.0</td>\n",
       "      <td>2000.0</td>\n",
       "      <td>2000.0</td>\n",
       "      <td>350.0</td>\n",
       "      <td>655.0</td>\n",
       "      <td>0.0</td>\n",
       "      <td>...</td>\n",
       "      <td>836.0</td>\n",
       "      <td>192.0</td>\n",
       "      <td>84.0</td>\n",
       "      <td>0.0</td>\n",
       "      <td>0.0</td>\n",
       "      <td>0.0</td>\n",
       "      <td>0.0</td>\n",
       "      <td>0.0</td>\n",
       "      <td>12.0</td>\n",
       "      <td>2008.0</td>\n",
       "    </tr>\n",
       "  </tbody>\n",
       "</table>\n",
       "<p>5 rows × 36 columns</p>\n",
       "</div>"
      ],
      "text/plain": [
       "   MSSubClass  LotFrontage  LotArea  OverallQual  OverallCond  YearBuilt  \\\n",
       "0        60.0         65.0   8450.0          7.0          5.0     2003.0   \n",
       "1        20.0         80.0   9600.0          6.0          8.0     1976.0   \n",
       "2        60.0         68.0  11250.0          7.0          5.0     2001.0   \n",
       "3        70.0         60.0   9550.0          7.0          5.0     1915.0   \n",
       "4        60.0         84.0  14260.0          8.0          5.0     2000.0   \n",
       "\n",
       "   YearRemodAdd  MasVnrArea  BsmtFinSF1  BsmtFinSF2  ...  GarageArea  \\\n",
       "0        2003.0       196.0       706.0         0.0  ...       548.0   \n",
       "1        1976.0         0.0       978.0         0.0  ...       460.0   \n",
       "2        2002.0       162.0       486.0         0.0  ...       608.0   \n",
       "3        1970.0         0.0       216.0         0.0  ...       642.0   \n",
       "4        2000.0       350.0       655.0         0.0  ...       836.0   \n",
       "\n",
       "   WoodDeckSF  OpenPorchSF  EnclosedPorch  3SsnPorch  ScreenPorch  PoolArea  \\\n",
       "0         0.0         61.0            0.0        0.0          0.0       0.0   \n",
       "1       298.0          0.0            0.0        0.0          0.0       0.0   \n",
       "2         0.0         42.0            0.0        0.0          0.0       0.0   \n",
       "3         0.0         35.0          272.0        0.0          0.0       0.0   \n",
       "4       192.0         84.0            0.0        0.0          0.0       0.0   \n",
       "\n",
       "   MiscVal  MoSold  YrSold  \n",
       "0      0.0     2.0  2008.0  \n",
       "1      0.0     5.0  2007.0  \n",
       "2      0.0     9.0  2008.0  \n",
       "3      0.0     2.0  2006.0  \n",
       "4      0.0    12.0  2008.0  \n",
       "\n",
       "[5 rows x 36 columns]"
      ]
     },
     "execution_count": 7,
     "metadata": {},
     "output_type": "execute_result"
    }
   ],
   "source": [
    "train_data_numeric.head()"
   ]
  },
  {
   "cell_type": "code",
   "execution_count": 8,
   "id": "d83176a1",
   "metadata": {},
   "outputs": [],
   "source": [
    "#a function to find the difference between two dataframes\n",
    "# We will use this function to check for columns in the main train dataframe that are not in the numeric train dataframe\n",
    "# Then we will save the columns in a new df\n",
    "def df_diff(first, second): # It accepts two dataframes as parameters\n",
    "        second = set(second)\n",
    "        return [item for item in first if item not in second]"
   ]
  },
  {
   "cell_type": "markdown",
   "id": "b12c951c",
   "metadata": {},
   "source": [
    "#### Handling the categorical data"
   ]
  },
  {
   "cell_type": "code",
   "execution_count": 9,
   "id": "cf35326d",
   "metadata": {},
   "outputs": [],
   "source": [
    "#train_data non numeric columns into one hot encoding\n",
    "train_data_non_numeric = train_data[df_diff(train_data.columns, train_data_numeric.columns)]\n",
    "# using pd.get_dummies to convert the categorical data to numeric 0s and 1s\n",
    "train_data_non_numeric = pd.get_dummies(train_data_non_numeric)\n",
    "\n",
    "#concat the numeric and non_numeric dataframes into one\n",
    "train_data_preprocessed = pd.concat([train_data_numeric.reset_index(drop=True), train_data_non_numeric], axis=1)"
   ]
  },
  {
   "cell_type": "markdown",
   "id": "0add0733",
   "metadata": {},
   "source": [
    "#### Cleaning Test Data Too"
   ]
  },
  {
   "cell_type": "code",
   "execution_count": 10,
   "id": "470f20a0",
   "metadata": {},
   "outputs": [],
   "source": [
    "#do the exact same thing with test data\n",
    "test_data_numeric = test_data.select_dtypes(exclude=['object'])\n",
    "test_data_numeric_columns = test_data_numeric.columns\n",
    "test_data_numeric = my_imputer.fit_transform(test_data_numeric)\n",
    "test_data_numeric = pd.DataFrame(test_data_numeric, columns = test_data_numeric_columns)"
   ]
  },
  {
   "cell_type": "code",
   "execution_count": 11,
   "id": "e25ffbeb",
   "metadata": {},
   "outputs": [],
   "source": [
    "#test_data non numeric columns into one hot encoding process\n",
    "test_data_non_numeric = test_data[df_diff(test_data.columns, test_data_numeric.columns)]\n",
    "test_data_non_numeric = pd.get_dummies(test_data_non_numeric)\n",
    "\n",
    "#concat the numeric and non_numeric dataframes into one\n",
    "test_data_preprocessed = pd.concat([test_data_numeric.reset_index(drop=True), test_data_non_numeric], axis=1)"
   ]
  },
  {
   "cell_type": "code",
   "execution_count": 12,
   "id": "843d009b",
   "metadata": {},
   "outputs": [],
   "source": [
    "#get again the common columns between train and test data\n",
    "common_columns = test_data_preprocessed.columns.intersection(train_data_preprocessed.columns)\n",
    "test_data_preprocessed = test_data_preprocessed[common_columns]\n",
    "train_data_preprocessed = train_data_preprocessed[common_columns]"
   ]
  },
  {
   "cell_type": "code",
   "execution_count": 13,
   "id": "bd436474",
   "metadata": {},
   "outputs": [
    {
     "data": {
      "text/html": [
       "<div>\n",
       "<style scoped>\n",
       "    .dataframe tbody tr th:only-of-type {\n",
       "        vertical-align: middle;\n",
       "    }\n",
       "\n",
       "    .dataframe tbody tr th {\n",
       "        vertical-align: top;\n",
       "    }\n",
       "\n",
       "    .dataframe thead th {\n",
       "        text-align: right;\n",
       "    }\n",
       "</style>\n",
       "<table border=\"1\" class=\"dataframe\">\n",
       "  <thead>\n",
       "    <tr style=\"text-align: right;\">\n",
       "      <th></th>\n",
       "      <th>MSSubClass</th>\n",
       "      <th>LotFrontage</th>\n",
       "      <th>LotArea</th>\n",
       "      <th>OverallQual</th>\n",
       "      <th>OverallCond</th>\n",
       "      <th>YearBuilt</th>\n",
       "      <th>YearRemodAdd</th>\n",
       "      <th>MasVnrArea</th>\n",
       "      <th>BsmtFinSF1</th>\n",
       "      <th>BsmtFinSF2</th>\n",
       "      <th>...</th>\n",
       "      <th>SaleType_ConLw</th>\n",
       "      <th>SaleType_New</th>\n",
       "      <th>SaleType_Oth</th>\n",
       "      <th>SaleType_WD</th>\n",
       "      <th>SaleCondition_Abnorml</th>\n",
       "      <th>SaleCondition_AdjLand</th>\n",
       "      <th>SaleCondition_Alloca</th>\n",
       "      <th>SaleCondition_Family</th>\n",
       "      <th>SaleCondition_Normal</th>\n",
       "      <th>SaleCondition_Partial</th>\n",
       "    </tr>\n",
       "  </thead>\n",
       "  <tbody>\n",
       "    <tr>\n",
       "      <th>0</th>\n",
       "      <td>20.0</td>\n",
       "      <td>80.0</td>\n",
       "      <td>11622.0</td>\n",
       "      <td>5.0</td>\n",
       "      <td>6.0</td>\n",
       "      <td>1961.0</td>\n",
       "      <td>1961.0</td>\n",
       "      <td>0.0</td>\n",
       "      <td>468.0</td>\n",
       "      <td>144.0</td>\n",
       "      <td>...</td>\n",
       "      <td>0</td>\n",
       "      <td>0</td>\n",
       "      <td>0</td>\n",
       "      <td>1</td>\n",
       "      <td>0</td>\n",
       "      <td>0</td>\n",
       "      <td>0</td>\n",
       "      <td>0</td>\n",
       "      <td>1</td>\n",
       "      <td>0</td>\n",
       "    </tr>\n",
       "    <tr>\n",
       "      <th>1</th>\n",
       "      <td>20.0</td>\n",
       "      <td>81.0</td>\n",
       "      <td>14267.0</td>\n",
       "      <td>6.0</td>\n",
       "      <td>6.0</td>\n",
       "      <td>1958.0</td>\n",
       "      <td>1958.0</td>\n",
       "      <td>108.0</td>\n",
       "      <td>923.0</td>\n",
       "      <td>0.0</td>\n",
       "      <td>...</td>\n",
       "      <td>0</td>\n",
       "      <td>0</td>\n",
       "      <td>0</td>\n",
       "      <td>1</td>\n",
       "      <td>0</td>\n",
       "      <td>0</td>\n",
       "      <td>0</td>\n",
       "      <td>0</td>\n",
       "      <td>1</td>\n",
       "      <td>0</td>\n",
       "    </tr>\n",
       "    <tr>\n",
       "      <th>2</th>\n",
       "      <td>60.0</td>\n",
       "      <td>74.0</td>\n",
       "      <td>13830.0</td>\n",
       "      <td>5.0</td>\n",
       "      <td>5.0</td>\n",
       "      <td>1997.0</td>\n",
       "      <td>1998.0</td>\n",
       "      <td>0.0</td>\n",
       "      <td>791.0</td>\n",
       "      <td>0.0</td>\n",
       "      <td>...</td>\n",
       "      <td>0</td>\n",
       "      <td>0</td>\n",
       "      <td>0</td>\n",
       "      <td>1</td>\n",
       "      <td>0</td>\n",
       "      <td>0</td>\n",
       "      <td>0</td>\n",
       "      <td>0</td>\n",
       "      <td>1</td>\n",
       "      <td>0</td>\n",
       "    </tr>\n",
       "    <tr>\n",
       "      <th>3</th>\n",
       "      <td>60.0</td>\n",
       "      <td>78.0</td>\n",
       "      <td>9978.0</td>\n",
       "      <td>6.0</td>\n",
       "      <td>6.0</td>\n",
       "      <td>1998.0</td>\n",
       "      <td>1998.0</td>\n",
       "      <td>20.0</td>\n",
       "      <td>602.0</td>\n",
       "      <td>0.0</td>\n",
       "      <td>...</td>\n",
       "      <td>0</td>\n",
       "      <td>0</td>\n",
       "      <td>0</td>\n",
       "      <td>1</td>\n",
       "      <td>0</td>\n",
       "      <td>0</td>\n",
       "      <td>0</td>\n",
       "      <td>0</td>\n",
       "      <td>1</td>\n",
       "      <td>0</td>\n",
       "    </tr>\n",
       "    <tr>\n",
       "      <th>4</th>\n",
       "      <td>120.0</td>\n",
       "      <td>43.0</td>\n",
       "      <td>5005.0</td>\n",
       "      <td>8.0</td>\n",
       "      <td>5.0</td>\n",
       "      <td>1992.0</td>\n",
       "      <td>1992.0</td>\n",
       "      <td>0.0</td>\n",
       "      <td>263.0</td>\n",
       "      <td>0.0</td>\n",
       "      <td>...</td>\n",
       "      <td>0</td>\n",
       "      <td>0</td>\n",
       "      <td>0</td>\n",
       "      <td>1</td>\n",
       "      <td>0</td>\n",
       "      <td>0</td>\n",
       "      <td>0</td>\n",
       "      <td>0</td>\n",
       "      <td>1</td>\n",
       "      <td>0</td>\n",
       "    </tr>\n",
       "  </tbody>\n",
       "</table>\n",
       "<p>5 rows × 270 columns</p>\n",
       "</div>"
      ],
      "text/plain": [
       "   MSSubClass  LotFrontage  LotArea  OverallQual  OverallCond  YearBuilt  \\\n",
       "0        20.0         80.0  11622.0          5.0          6.0     1961.0   \n",
       "1        20.0         81.0  14267.0          6.0          6.0     1958.0   \n",
       "2        60.0         74.0  13830.0          5.0          5.0     1997.0   \n",
       "3        60.0         78.0   9978.0          6.0          6.0     1998.0   \n",
       "4       120.0         43.0   5005.0          8.0          5.0     1992.0   \n",
       "\n",
       "   YearRemodAdd  MasVnrArea  BsmtFinSF1  BsmtFinSF2  ...  SaleType_ConLw  \\\n",
       "0        1961.0         0.0       468.0       144.0  ...               0   \n",
       "1        1958.0       108.0       923.0         0.0  ...               0   \n",
       "2        1998.0         0.0       791.0         0.0  ...               0   \n",
       "3        1998.0        20.0       602.0         0.0  ...               0   \n",
       "4        1992.0         0.0       263.0         0.0  ...               0   \n",
       "\n",
       "   SaleType_New  SaleType_Oth  SaleType_WD  SaleCondition_Abnorml  \\\n",
       "0             0             0            1                      0   \n",
       "1             0             0            1                      0   \n",
       "2             0             0            1                      0   \n",
       "3             0             0            1                      0   \n",
       "4             0             0            1                      0   \n",
       "\n",
       "   SaleCondition_AdjLand  SaleCondition_Alloca  SaleCondition_Family  \\\n",
       "0                      0                     0                     0   \n",
       "1                      0                     0                     0   \n",
       "2                      0                     0                     0   \n",
       "3                      0                     0                     0   \n",
       "4                      0                     0                     0   \n",
       "\n",
       "   SaleCondition_Normal  SaleCondition_Partial  \n",
       "0                     1                      0  \n",
       "1                     1                      0  \n",
       "2                     1                      0  \n",
       "3                     1                      0  \n",
       "4                     1                      0  \n",
       "\n",
       "[5 rows x 270 columns]"
      ]
     },
     "execution_count": 13,
     "metadata": {},
     "output_type": "execute_result"
    }
   ],
   "source": [
    "test_data_preprocessed.head()"
   ]
  },
  {
   "cell_type": "markdown",
   "id": "fcf87ba0",
   "metadata": {},
   "source": [
    "### Background on model used"
   ]
  },
  {
   "attachments": {
    "xgboost.png": {
     "image/png": "[encoded data removed]"
    }
   },
   "cell_type": "markdown",
   "id": "e32d6109",
   "metadata": {},
   "source": [
    "### What is XGBoost\n",
    "XGBoost is the leading model for working with standard tabular data (the type of data you store in Pandas DataFrames, as opposed to more exotic types of data like images and videos). XGBoost models dominate many Kaggle competitions.\n",
    "\n",
    "To reach peak accuracy, XGBoost models require more knowledge and model tuning than techniques like Random Forest. After this tutorial, you'ill be able to\n",
    "\n",
    ". Follow the full modeling workflow with XGBoost\n",
    ". Fine-tune XGBoost models for optimal performance\n",
    "\n",
    "XGBoost is an implementation of the Gradient Boosted Decision Trees algorithm (scikit-learn has another version of this algorithm, but XGBoost has some technical advantages.) What is Gradient Boosted Decision Trees? We'll walk through a diagram.\n",
    "![xgboost.png](attachment:xgboost.png)"
   ]
  },
  {
   "cell_type": "markdown",
   "id": "5e571b37",
   "metadata": {},
   "source": [
    "Building and fitting model using xgboost"
   ]
  },
  {
   "cell_type": "code",
   "execution_count": 14,
   "id": "353e9a08",
   "metadata": {},
   "outputs": [],
   "source": [
    "from xgboost import XGBRegressor"
   ]
  },
  {
   "cell_type": "code",
   "execution_count": 15,
   "id": "fafffd48",
   "metadata": {},
   "outputs": [],
   "source": [
    "model = XGBRegressor()"
   ]
  },
  {
   "cell_type": "code",
   "execution_count": 16,
   "id": "92793ca5",
   "metadata": {},
   "outputs": [
    {
     "data": {
      "text/plain": [
       "XGBRegressor(base_score=0.5, booster='gbtree', callbacks=None,\n",
       "             colsample_bylevel=1, colsample_bynode=1, colsample_bytree=1,\n",
       "             early_stopping_rounds=None, enable_categorical=False,\n",
       "             eval_metric=None, gamma=0, gpu_id=-1, grow_policy='depthwise',\n",
       "             importance_type=None, interaction_constraints='',\n",
       "             learning_rate=0.300000012, max_bin=256, max_cat_to_onehot=4,\n",
       "             max_delta_step=0, max_depth=6, max_leaves=0, min_child_weight=1,\n",
       "             missing=nan, monotone_constraints='()', n_estimators=100, n_jobs=0,\n",
       "             num_parallel_tree=1, predictor='auto', random_state=0, reg_alpha=0,\n",
       "             reg_lambda=1, ...)"
      ]
     },
     "execution_count": 16,
     "metadata": {},
     "output_type": "execute_result"
    }
   ],
   "source": [
    "model.fit(train_data_preprocessed, train_data_y, verbose=False)"
   ]
  },
  {
   "cell_type": "markdown",
   "id": "229785c6",
   "metadata": {},
   "source": [
    "### Predictions"
   ]
  },
  {
   "cell_type": "code",
   "execution_count": 17,
   "id": "195a5a99",
   "metadata": {},
   "outputs": [],
   "source": [
    "predictions = model.predict(test_data_preprocessed)"
   ]
  },
  {
   "cell_type": "code",
   "execution_count": 18,
   "id": "7c13886e",
   "metadata": {},
   "outputs": [
    {
     "data": {
      "text/plain": [
       "array([126308.28, 150446.56, 191197.34, ..., 176536.27, 113884.21,\n",
       "       220153.95], dtype=float32)"
      ]
     },
     "execution_count": 18,
     "metadata": {},
     "output_type": "execute_result"
    }
   ],
   "source": [
    "predictions"
   ]
  },
  {
   "cell_type": "code",
   "execution_count": 19,
   "id": "e1da6bb4",
   "metadata": {},
   "outputs": [],
   "source": [
    "test_data = pd.read_csv('../files/test.csv') #Since I dropped the Id column from the test data earlier, I have to reload the file\n",
    "# to get access to this column again\n",
    "my_submission = pd.DataFrame({'Id': test_data.Id, 'SalePrice': predictions})\n",
    "\n",
    "# you could use any filename. We choose submission here\n",
    "my_submission.to_csv('../files/Olawale_submission_XGBoost.csv', index=False)"
   ]
  },
  {
   "cell_type": "code",
   "execution_count": 20,
   "id": "1d28dec6",
   "metadata": {},
   "outputs": [
    {
     "name": "stdout",
     "output_type": "stream",
     "text": [
      "<class 'pandas.core.frame.DataFrame'>\n",
      "RangeIndex: 1459 entries, 0 to 1458\n",
      "Data columns (total 2 columns):\n",
      " #   Column     Non-Null Count  Dtype  \n",
      "---  ------     --------------  -----  \n",
      " 0   Id         1459 non-null   int64  \n",
      " 1   SalePrice  1459 non-null   float32\n",
      "dtypes: float32(1), int64(1)\n",
      "memory usage: 17.2 KB\n"
     ]
    }
   ],
   "source": [
    "my_submission.info()"
   ]
  },
  {
   "cell_type": "markdown",
   "id": "84a6cbb3",
   "metadata": {},
   "source": [
    "### Model Tuning\n",
    "\n",
    "XGBoost has a few parameters that can dramatically affect your model's accuracy and training speed. The first parameters you should understand are:\n",
    "\n",
    "#### n_estimators and early_stopping_rounds\n",
    "\n",
    "n_estimators specifies how many times to go through the modeling cycle described above.\n",
    "\n",
    "In the underfitting vs overfitting graph, n_estimators moves you further to the right. Too low a value causes underfitting, which is inaccurate predictions on both training data and new data. Too large a value causes overfitting, which is accurate predictions on training data, but inaccurate predictions on new data (which is what we care about). You can experiment with your dataset to find the ideal. Typical values range from 100-1000, though this depends a lot on the learning rate discussed below.\n",
    "\n",
    "The argument early_stopping_rounds offers a way to automatically find the ideal value. Early stopping causes the model to stop iterating when the validation score stops improving, even if we aren't at the hard stop for n_estimators. It's smart to set a high value for n_estimators and then use early_stopping_rounds to find the optimal time to stop iterating.\n",
    "\n",
    "Since random chance sometimes causes a single round where validation scores don't improve, you need to specify a number for how many rounds of straight deterioration to allow before stopping. early_stopping_rounds = 5 is a reasonable value. Thus we stop after 5 straight rounds of deteriorating validation scores.\n",
    "\n",
    "When using early_stopping_rounds, you need to set aside some of your data for checking the number of rounds to use. If you later want to fit a model with all of your data, set n_estimators to whatever value you found to be optimal when run with early stopping.\n",
    "\n",
    "#### learning_rate\n",
    "Here's a subtle but important trick for better XGBoost models:\n",
    "\n",
    "Instead of getting predictions by simply adding up the predictions from each component model, we will multiply the predictions from each model by a small number before adding them in. This means each tree we add to the ensemble helps us less. In practice, this reduces the model's propensity to overfit.\n",
    "\n",
    "So, you can use a higher value of n_estimators without overfitting. If you use early stopping, the appropriate number of trees will be set automatically.\n",
    "\n",
    "In general, a small learning rate (and large number of estimators) will yield more accurate XGBoost models, though it will also take the model longer to train since it does more iterations through the cycle.\n",
    "\n",
    "#### n_jobs\n",
    "\n",
    "On larger datasets where runtime is a consideration, you can use parallelism to build your models faster. It's common to set the parameter n_jobs equal to the number of cores on your machine. On smaller datasets, this won't help.\n",
    "\n",
    "The resulting model won't be any better, so micro-optimizing for fitting time is typically nothing but a distraction. But, it's useful in large datasets where you would otherwise spend a long time waiting during the fit command.\n",
    "\n",
    "XGBoost has a multitude of other parameters, but these will go a very long way in helping you fine-tune your XGBoost model for optimal performance."
   ]
  },
  {
   "cell_type": "code",
   "execution_count": 21,
   "id": "a20d03e3",
   "metadata": {},
   "outputs": [
    {
     "name": "stdout",
     "output_type": "stream",
     "text": [
      "best parameters after tuning: {'colsample_bytree': 0.3, 'gamma': 0.0, 'learning_rate': 0.2, 'max_depth': 4, 'min_child_weight': 4, 'n_estimators': 200, 'reg_alpha': 0.001, 'subsample': 0.7}\n"
     ]
    }
   ],
   "source": [
    "'''\n",
    "Experimenting with a smaller Grid Search and make new predictions with the best parameters\n",
    "this grid search it will take time to finish, approximately it will take 1-2 days depending on \n",
    "the cpu power.\n",
    "'''\n",
    "\n",
    "parameters = {'max_depth':[2, 3, 4], 'learning_rate':[0.3, 0.25, 0.2], 'n_estimators':[200, 300, 400], \n",
    "              'min_child_weight':[i for i in range(1,8)], 'gamma': [i/10.0 for i in range(0,2)], \n",
    "              'subsample':[i/10.0 for i in range(2,8)], \n",
    "              'colsample_bytree':[i/10.0 for i in range(2,8)], 'reg_alpha':[1e-5, 1e-4, 1e-3]}\n",
    "\n",
    "from sklearn.model_selection import GridSearchCV\n",
    "# from xgboost import XGBRegressor\n",
    "\n",
    "my_model = XGBRegressor(seed=123)\n",
    "clf = GridSearchCV(my_model, parameters, cv=4, scoring='r2', verbose = 0, n_jobs=2)\n",
    "clf.fit(train_data_preprocessed, train_data_y)\n",
    "print(\"best parameters after tuning:\", clf.best_params_)"
   ]
  },
  {
   "cell_type": "markdown",
   "id": "54c0481b",
   "metadata": {},
   "source": [
    "### Printing the best score"
   ]
  },
  {
   "cell_type": "code",
   "execution_count": 23,
   "id": "7b2b859b",
   "metadata": {},
   "outputs": [
    {
     "name": "stdout",
     "output_type": "stream",
     "text": [
      "0.8966547052995301\n"
     ]
    }
   ],
   "source": [
    "print(clf.best_score_)"
   ]
  },
  {
   "cell_type": "markdown",
   "id": "eb5cf3d4",
   "metadata": {},
   "source": [
    "### Lets make predictions with the best tuned model"
   ]
  },
  {
   "cell_type": "code",
   "execution_count": 24,
   "id": "b98ce092",
   "metadata": {},
   "outputs": [],
   "source": [
    "predictions_prices = clf.predict(test_data_preprocessed)\n",
    "\n",
    "test_data = pd.read_csv('../files/test.csv')\n",
    "my_submission_grid = pd.DataFrame({'Id': test_data.Id, 'SalePrice': predictions_prices})\n",
    "\n",
    "# you could use any filename. We choose submission here\n",
    "my_submission_grid.to_csv('../files/xgboost_submission_after_fine_tuned_grid.csv', index=False)"
   ]
  },
  {
   "cell_type": "code",
   "execution_count": 25,
   "id": "84c92bcb",
   "metadata": {},
   "outputs": [
    {
     "data": {
      "text/html": [
       "<div>\n",
       "<style scoped>\n",
       "    .dataframe tbody tr th:only-of-type {\n",
       "        vertical-align: middle;\n",
       "    }\n",
       "\n",
       "    .dataframe tbody tr th {\n",
       "        vertical-align: top;\n",
       "    }\n",
       "\n",
       "    .dataframe thead th {\n",
       "        text-align: right;\n",
       "    }\n",
       "</style>\n",
       "<table border=\"1\" class=\"dataframe\">\n",
       "  <thead>\n",
       "    <tr style=\"text-align: right;\">\n",
       "      <th></th>\n",
       "      <th>Id</th>\n",
       "      <th>SalePrice</th>\n",
       "    </tr>\n",
       "  </thead>\n",
       "  <tbody>\n",
       "    <tr>\n",
       "      <th>0</th>\n",
       "      <td>1461</td>\n",
       "      <td>130362.57</td>\n",
       "    </tr>\n",
       "    <tr>\n",
       "      <th>1</th>\n",
       "      <td>1462</td>\n",
       "      <td>157600.39</td>\n",
       "    </tr>\n",
       "    <tr>\n",
       "      <th>2</th>\n",
       "      <td>1463</td>\n",
       "      <td>186835.61</td>\n",
       "    </tr>\n",
       "    <tr>\n",
       "      <th>3</th>\n",
       "      <td>1464</td>\n",
       "      <td>204548.39</td>\n",
       "    </tr>\n",
       "    <tr>\n",
       "      <th>4</th>\n",
       "      <td>1465</td>\n",
       "      <td>166154.94</td>\n",
       "    </tr>\n",
       "  </tbody>\n",
       "</table>\n",
       "</div>"
      ],
      "text/plain": [
       "     Id  SalePrice\n",
       "0  1461  130362.57\n",
       "1  1462  157600.39\n",
       "2  1463  186835.61\n",
       "3  1464  204548.39\n",
       "4  1465  166154.94"
      ]
     },
     "execution_count": 25,
     "metadata": {},
     "output_type": "execute_result"
    }
   ],
   "source": [
    "final_submission = pd.read_csv('../files/xgboost_submission_after_fine_tuned_grid.csv')\n",
    "final_submission.head()"
   ]
  },
  {
   "cell_type": "markdown",
   "id": "b6b28d80",
   "metadata": {},
   "source": [
    "### Save the fine tuned xgboost model to disk for future references"
   ]
  },
  {
   "cell_type": "code",
   "execution_count": 27,
   "id": "14cadff3",
   "metadata": {},
   "outputs": [
    {
     "data": {
      "text/plain": [
       "['saved_model_fine_tune_xgboost.pkl']"
      ]
     },
     "execution_count": 27,
     "metadata": {},
     "output_type": "execute_result"
    }
   ],
   "source": [
    "#save the model\n",
    "import joblib\n",
    "\n",
    "joblib.dump(clf.best_estimator_, 'saved_model_fine_tune_xgboost.pkl')"
   ]
  }
 ],
 "metadata": {
  "kernelspec": {
   "display_name": "Python 3",
   "language": "python",
   "name": "python3"
  },
  "language_info": {
   "codemirror_mode": {
    "name": "ipython",
    "version": 3
   },
   "file_extension": ".py",
   "mimetype": "text/x-python",
   "name": "python",
   "nbconvert_exporter": "python",
   "pygments_lexer": "ipython3",
   "version": "3.8.8"
  }
 },
 "nbformat": 4,
 "nbformat_minor": 5
}
