{
 "cells": [
  {
   "cell_type": "code",
   "execution_count": 1,
   "id": "84c20f80",
   "metadata": {},
   "outputs": [],
   "source": [
    "# import pandas as pd"
   ]
  },
  {
   "cell_type": "code",
   "execution_count": 2,
   "id": "73a2051c",
   "metadata": {},
   "outputs": [],
   "source": [
    "# #import file for countries and their corresponding offsets\n",
    "# mainFile = pd.read_csv(\n",
    "#     'files/timezones_Detailed_588_Countries.csv')\n",
    "# mainFile.head(3)"
   ]
  },
  {
   "cell_type": "code",
   "execution_count": 17,
   "id": "eb1209c7",
   "metadata": {},
   "outputs": [],
   "source": [
    "# Extract the region/country names\n",
    "# timeZones = mainFile['timezone'].tolist()\n",
    "timeZones = ['Africa/Abidjan','Africa/Accra','Africa/Addis_Ababa','Africa/Algiers','Africa/Asmara','Africa/Asmera',\n",
    "             'Africa/Bamako','Africa/Bangui','Africa/Banjul','Africa/Bissau','Africa/Blantyre','Africa/Brazzaville',\n",
    "             'Africa/Bujumbura','Africa/Cairo','Africa/Casablanca','Africa/Ceuta','Africa/Conakry','Africa/Dakar',\n",
    "             'Africa/Dar_es_Salaam','Africa/Djibouti','Africa/Douala','Africa/El_Aaiun','Africa/Freetown','Africa/Gaborone',\n",
    "             'Africa/Harare','Africa/Johannesburg','Africa/Juba','Africa/Kampala','Africa/Khartoum','Africa/Kigali',\n",
    "             'Africa/Kinshasa','Africa/Lagos','Africa/Libreville','Africa/Lome','Africa/Luanda','Africa/Lubumbashi',\n",
    "             'Africa/Lusaka','Africa/Malabo','Africa/Maputo','Africa/Maseru','Africa/Mbabane','Africa/Mogadishu',\n",
    "             'Africa/Monrovia','Africa/Nairobi','Africa/Ndjamena','Africa/Niamey','Africa/Nouakchott','Africa/Ouagadougou',\n",
    "             'Africa/Porto-Novo','Africa/Sao_Tome','Africa/Timbuktu','Africa/Tripoli','Africa/Tunis','Africa/Windhoek',\n",
    "             'America/Adak','America/Anchorage','America/Anguilla','America/Antigua','America/Araguaina',\n",
    "             'Argentina/Buenos_Aires','Argentina/Catamarca','Argentina/ComodRivadavia',\n",
    "             'Argentina/Cordoba','Argentina/Jujuy','Argentina/La_Rioja','Argentina/Mendoza',\n",
    "             'Argentina/Rio_Gallegos','Argentina/Salta','Argentina/San_Juan',\n",
    "             'Argentina/San_Luis','Argentina/Tucuman','Argentina/Ushuaia','America/Aruba','America/Asuncion',\n",
    "             'America/Atikokan','America/Atka','America/Bahia','America/Bahia_Banderas','America/Barbados',\n",
    "             'America/Belem','America/Belize','America/Blanc-Sablon','America/Boa_Vista','America/Bogota',\n",
    "             'America/Boise','America/Buenos_Aires','America/Cambridge_Bay','America/Campo_Grande','America/Cancun',\n",
    "             'America/Caracas','America/Catamarca','America/Cayenne','America/Cayman','America/Chicago','America/Chihuahua',\n",
    "             'America/Coral_Harbour','America/Cordoba','America/Costa_Rica','America/Creston','America/Cuiaba',\n",
    "             'America/Curacao','America/Danmarkshavn','America/Dawson','America/Dawson_Creek','America/Denver',\n",
    "             'America/Detroit','America/Dominica','America/Edmonton','America/Eirunepe','America/El_Salvador',\n",
    "             'America/Ensenada','America/Fort_Nelson','America/Fort_Wayne','America/Fortaleza','America/Glace_Bay',\n",
    "             'America/Godthab','America/Goose_Bay','America/Grand_Turk','America/Grenada','America/Guadeloupe',\n",
    "             'America/Guatemala','America/Guayaquil','America/Guyana','America/Halifax','America/Havana',\n",
    "             'America/Hermosillo','America/Indiana/Indianapolis','America/Indiana/Knox','America/Indiana/Marengo',\n",
    "             'America/Indiana/Petersburg','America/Indiana/Tell_City','America/Indiana/Vevay','America/Indiana/Vincennes',\n",
    "             'America/Indiana/Winamac','America/Indianapolis','America/Inuvik','America/Iqaluit','America/Jamaica','America/Jujuy',\n",
    "             'America/Juneau','America/Kentucky/Louisville','America/Kentucky/Monticello','America/Knox_IN',\n",
    "             'America/Kralendijk','America/La_Paz','America/Lima','America/Los_Angeles','America/Louisville',\n",
    "             'America/Lower_Princes','America/Maceio','America/Managua','America/Manaus','America/Marigot',\n",
    "             'America/Martinique','America/Matamoros','America/Mazatlan','America/Mendoza','America/Menominee',\n",
    "             'America/Merida','America/Metlakatla','America/Mexico_City','America/Miquelon','America/Moncton',\n",
    "             'America/Monterrey','America/Montevideo','America/Montreal','America/Montserrat','America/Nassau',\n",
    "             'America/New_York','America/Nipigon','America/Nome','America/Noronha','America/North_Dakota/Beulah',\n",
    "             'America/North_Dakota/Center','America/North_Dakota/New_Salem','America/Ojinaga','America/Panama',\n",
    "             'America/Pangnirtung','America/Paramaribo','America/Phoenix','America/Port-au-Prince','America/Port_of_Spain',\n",
    "             'America/Porto_Acre','America/Porto_Velho','America/Puerto_Rico','America/Rainy_River','America/Rankin_Inlet',\n",
    "             'America/Recife','America/Regina','America/Resolute','America/Rio_Branco','America/Rosario','America/Santa_Isabel',\n",
    "             'America/Santarem','America/Santiago','America/Santo_Domingo','America/Sao_Paulo','America/Scoresbysund',\n",
    "             'America/Shiprock','America/Sitka','America/St_Barthelemy','America/St_Johns','America/St_Kitts',\n",
    "             'America/St_Lucia','America/St_Thomas','America/St_Vincent','America/Swift_Current','America/Tegucigalpa',\n",
    "             'America/Thule','America/Thunder_Bay','America/Tijuana','America/Toronto','America/Tortola','America/Vancouver',\n",
    "             'America/Virgin','America/Whitehorse','America/Winnipeg','America/Yakutat','America/Yellowknife',\n",
    "             'Antarctica/Casey','Antarctica/Davis','Antarctica/DumontDUrville','Antarctica/Macquarie','Antarctica/Mawson',\n",
    "             'Antarctica/McMurdo','Antarctica/Palmer','Antarctica/Rothera','Antarctica/South_Pole','Antarctica/Syowa',\n",
    "             'Antarctica/Troll','Antarctica/Vostok','Arctic/Longyearbyen','Asia/Aden','Asia/Almaty','Asia/Amman',\n",
    "             'Asia/Anadyr','Asia/Aqtau','Asia/Aqtobe','Asia/Ashgabat','Asia/Ashkhabad','Asia/Baghdad','Asia/Bahrain',\n",
    "             'Asia/Baku','Asia/Bangkok','Asia/Beirut','Asia/Bishkek','Asia/Brunei','Asia/Calcutta','Asia/Chita',\n",
    "             'Asia/Choibalsan','Asia/Chongqing','Asia/Chungking','Asia/Colombo','Asia/Dacca','Asia/Damascus',\n",
    "             'Asia/Dhaka','Asia/Dili','Asia/Dubai','Asia/Dushanbe','Asia/Gaza','Asia/Harbin','Asia/Hebron',\n",
    "             'Asia/Ho_Chi_Minh','Asia/Hong_Kong','Asia/Hovd','Asia/Irkutsk','Asia/Istanbul','Asia/Jakarta',\n",
    "             'Asia/Jayapura','Asia/Jerusalem','Asia/Kabul','Asia/Kamchatka','Asia/Karachi','Asia/Kashgar',\n",
    "             'Asia/Kathmandu','Asia/Katmandu','Asia/Khandyga','Asia/Kolkata','Asia/Krasnoyarsk','Asia/Kuala_Lumpur',\n",
    "             'Asia/Kuching','Asia/Kuwait','Asia/Macao','Asia/Macau','Asia/Magadan','Asia/Makassar','Asia/Manila',\n",
    "             'Asia/Muscat','Asia/Nicosia','Asia/Novokuznetsk','Asia/Novosibirsk','Asia/Omsk','Asia/Oral','Asia/Phnom_Penh',\n",
    "             'Asia/Pontianak','Asia/Pyongyang','Asia/Qatar','Asia/Qyzylorda','Asia/Rangoon','Asia/Riyadh','Asia/Riyadh87',\n",
    "             'Asia/Riyadh88','Asia/Riyadh89','Asia/Saigon','Asia/Sakhalin','Asia/Samarkand','Asia/Seoul','Asia/Shanghai',\n",
    "             'Asia/Singapore','Asia/Srednekolymsk','Asia/Taipei','Asia/Tashkent','Asia/Tbilisi','Asia/Tehran','Asia/Tel_Aviv',\n",
    "             'Asia/Thimbu','Asia/Thimphu','Asia/Tokyo','Asia/Ujung_Pandang','Asia/Ulaanbaatar','Asia/Ulan_Bator','Asia/Urumqi',\n",
    "             'Asia/Vientiane','Asia/Vladivostok','Asia/Yakutsk','Asia/Yekaterinburg','Asia/Yerevan','Atlantic/Azores',\n",
    "             'Atlantic/Bermuda','Atlantic/Canary','Atlantic/Cape_Verde','Atlantic/Faeroe','Atlantic/Faroe','Atlantic/Jan_Mayen',\n",
    "             'Atlantic/Madeira','Atlantic/Reykjavik','Atlantic/South_Georgia','Atlantic/St_Helena','Atlantic/Stanley',\n",
    "             'Australia/ACT','Australia/Adelaide','Australia/Brisbane','Australia/Broken_Hill','Australia/Canberra',\n",
    "             'Australia/Currie','Australia/Darwin','Australia/Eucla','Australia/Hobart','Australia/LHI','Australia/Lindeman',\n",
    "             'Australia/Lord_Howe','Australia/Melbourne','Australia/NSW','Australia/North','Australia/Perth',\n",
    "             'Australia/Queensland','Australia/South','Australia/Sydney','Australia/Tasmania','Australia/Victoria',\n",
    "             'Australia/West','Australia/Yancowinna','Brazil/Acre','Brazil/DeNoronha','Brazil/East','Brazil/West',\n",
    "             'CET','CST6CDT','Canada/Atlantic','Canada/Central','Canada/East-Saskatchewan','Canada/Eastern','Canada/Mountain',\n",
    "             'Canada/Newfoundland','Canada/Pacific','Canada/Saskatchewan','Canada/Yukon','Chile/Continental',\n",
    "             'Chile/EasterIsland','Cuba','EET','EST','EST5EDT','Egypt','Eire','Etc/GMT','Etc/GMT+0','Etc/GMT+1',\n",
    "             'Etc/GMT+10','Etc/GMT+11','Etc/GMT+12','Etc/GMT+2','Etc/GMT+3','Etc/GMT+4','Etc/GMT+5','Etc/GMT+6','Etc/GMT+7',\n",
    "             'Etc/GMT+8','Etc/GMT+9','Etc/GMT-0','Etc/GMT-1','Etc/GMT-10','Etc/GMT-11','Etc/GMT-12','Etc/GMT-13',\n",
    "             'Etc/GMT-14','Etc/GMT-2','Etc/GMT-3','Etc/GMT-4','Etc/GMT-5','Etc/GMT-6','Etc/GMT-7','Etc/GMT-8',\n",
    "             'Etc/GMT-9','Etc/GMT0','Etc/Greenwich','Etc/UCT','Etc/UTC','Etc/Universal','Etc/Zulu','Europe/Amsterdam',\n",
    "             'Europe/Andorra','Europe/Athens','Europe/Belfast','Europe/Belgrade','Europe/Berlin','Europe/Bratislava',\n",
    "             'Europe/Brussels','Europe/Bucharest','Europe/Budapest','Europe/Busingen','Europe/Chisinau','Europe/Copenhagen',\n",
    "             'Europe/Dublin','Europe/Gibraltar','Europe/Guernsey','Europe/Helsinki','Europe/Isle_of_Man','Europe/Istanbul',\n",
    "             'Europe/Jersey','Europe/Kaliningrad','Europe/Kiev','Europe/Lisbon','Europe/Ljubljana','Europe/London',\n",
    "             'Europe/Luxembourg','Europe/Madrid','Europe/Malta','Europe/Mariehamn','Europe/Minsk','Europe/Monaco',\n",
    "             'Europe/Moscow','Europe/Nicosia','Europe/Oslo','Europe/Paris','Europe/Podgorica','Europe/Prague','Europe/Riga',\n",
    "             'Europe/Rome','Europe/Samara','Europe/San_Marino','Europe/Sarajevo','Europe/Simferopol','Europe/Skopje',\n",
    "             'Europe/Sofia','Europe/Stockholm','Europe/Tallinn','Europe/Tirane','Europe/Tiraspol','Europe/Uzhgorod',\n",
    "             'Europe/Vaduz','Europe/Vatican','Europe/Vienna','Europe/Vilnius','Europe/Volgograd','Europe/Warsaw',\n",
    "             'Europe/Zagreb','Europe/Zaporozhye','Europe/Zurich','Factory','GB','GB-Eire','GMT','GMT+0','GMT-0','GMT0',\n",
    "             'Greenwich','HST','Hongkong','Iceland','Indian/Antananarivo','Indian/Chagos','Indian/Christmas','Indian/Cocos',\n",
    "             'Indian/Comoro','Indian/Kerguelen','Indian/Mahe','Indian/Maldives','Indian/Mauritius','Indian/Mayotte',\n",
    "             'Indian/Reunion','Iran','Israel','Jamaica','Japan','Kwajalein','Libya','MET','MST','MST7MDT','Mexico/BajaNorte',\n",
    "             'Mexico/BajaSur','Mexico/General','Mideast/Riyadh87','Mideast/Riyadh88','Mideast/Riyadh89','NZ','NZ-CHAT','Navajo',\n",
    "             'PRC','PST8PDT','Pacific/Apia','Pacific/Auckland','Pacific/Bougainville','Pacific/Chatham','Pacific/Chuuk',\n",
    "             'Pacific/Easter','Pacific/Efate','Pacific/Enderbury','Pacific/Fakaofo','Pacific/Fiji','Pacific/Funafuti',\n",
    "             'Pacific/Galapagos','Pacific/Gambier','Pacific/Guadalcanal','Pacific/Guam','Pacific/Honolulu','Pacific/Johnston',\n",
    "             'Pacific/Kiritimati','Pacific/Kosrae','Pacific/Kwajalein','Pacific/Majuro','Pacific/Marquesas','Pacific/Midway',\n",
    "             'Pacific/Nauru','Pacific/Niue','Pacific/Norfolk','Pacific/Noumea','Pacific/Pago_Pago','Pacific/Palau',\n",
    "             'Pacific/Pitcairn','Pacific/Ponape','Pacific/Port_Moresby','Pacific/Rarotonga','Pacific/Saipan','Pacific/Samoa',\n",
    "             'Pacific/Tahiti','Pacific/Tarawa','Pacific/Tongatapu','Pacific/Truk','Pacific/Wake','Pacific/Wallis','Pacific/Yap',\n",
    "             'Poland','Portugal','ROC','ROK','Singapore','Turkey','UCT','US/Alaska','US/Aleutian','US/Arizona','US/Central',\n",
    "             'US/East-Indiana','US/Eastern','US/Hawaii','US/Indiana-Starke','US/Michigan','US/Mountain','US/Pacific',\n",
    "             'US/Pacific-New','US/Samoa','UTC','Universal','W-SU','WET','Zulu'\n",
    "]\n",
    "# timeZones\n",
    "\n",
    "\n",
    "countryList = [] #empty list to hold the list of countries\n",
    "\n",
    "# seperate the region from the country\n",
    "for items in timeZones:\n",
    "    if '/' in items:\n",
    "        countryParts = items.split('/')\n",
    "        countryList.append(countryParts[1])\n",
    "        #print(countryPart)\n",
    "    else:\n",
    "        countryPart= items\n",
    "# countryList"
   ]
  },
  {
   "cell_type": "code",
   "execution_count": 18,
   "id": "3546609b",
   "metadata": {},
   "outputs": [],
   "source": [
    "# countryTimeList = mainFile['offset'].tolist()\n",
    "countryTimeList = [0,0,10800,3600,10800,10800,0,3600,0,0,7200,3600,7200,7200,0,3600,0,0,10800,10800,\n",
    "                   3600,0,0,7200,7200,7200,10800,10800,10800,7200,3600,3600,3600,0,3600,7200,7200,3600,7200,7200,7200,\n",
    "                   10800,0,10800,3600,3600,0,0,3600,0,0,7200,3600,3600,-36000,-32400,-14400,-14400,-10800,-10800,-10800,\n",
    "                   -10800,-10800,-10800,-10800,-10800,-10800,-10800,-10800,-10800,-10800,-10800,-14400,-10800,-18000,-36000,\n",
    "                   -10800,-21600,-14400,-10800,-21600,-14400,-14400,-18000,-25200,-10800,-25200,-14400,-18000,-16200,-10800,\n",
    "                   -10800,-18000,-21600,-25200,-18000,-10800,-21600,-25200,-14400,-14400,0,-28800,-25200,-25200,-18000,-14400,\n",
    "                   -25200,-18000,-21600,-28800,-25200,-18000,-10800,-14400,-10800,-14400,-14400,-14400,-14400,-21600,-18000,\n",
    "                   -14400,-14400,-18000,-25200,-18000,-21600,-18000,-18000,-21600,-18000,-18000,-18000,-18000,-25200,-18000,\n",
    "                   -18000,-10800,-32400,-18000,-18000,-21600,-14400,-14400,-18000,-28800,-18000,-14400,-10800,-21600,-14400,\n",
    "                   -14400,-14400,-21600,-25200,-10800,-21600,-21600,-28800,-21600,-10800,-14400,-21600,-10800,-18000,-14400,\n",
    "                   -18000,-18000,-18000,-32400,-7200,-21600,-21600,-21600,-25200,-18000,-18000,-10800,-25200,-18000,-14400,\n",
    "                   -18000,-14400,-14400,-21600,-21600,-10800,-21600,-21600,-18000,-10800,-28800,-10800,-10800,-14400,-10800,\n",
    "                   -3600,-25200,-32400,-14400,-12600,-14400,-14400,-14400,-14400,-21600,-21600,-14400,-18000,-28800,-18000,\n",
    "                   -14400,-28800,-14400,-28800,-21600,-32400,-25200,28800,25200,36000,39600,18000,43200,-10800,-10800,43200,\n",
    "                   10800,0,21600,3600,10800,21600,7200,43200,18000,18000,18000,18000,10800,10800,14400,25200,7200,21600,28800,\n",
    "                   19800,28800,28800,28800,28800,19800,21600,7200,21600,32400,14400,18000,7200,28800,7200,25200,28800,25200,\n",
    "                   28800,7200,25200,32400,7200,16200,43200,18000,21600,20700,20700,32400,19800,25200,28800,28800,10800,28800,\n",
    "                   28800,36000,28800,28800,14400,7200,25200,21600,21600,18000,25200,25200,30600,10800,21600,23400,10800,10800,\n",
    "                   10800,10800,25200,36000,18000,32400,28800,28800,39600,28800,18000,14400,12600,7200,21600,21600,32400,28800,\n",
    "                   28800,28800,21600,25200,36000,32400,18000,14400,-3600,-14400,0,-3600,0,0,3600,0,0,-7200,0,-10800,36000,\n",
    "                   34200,36000,34200,36000,36000,34200,31500,36000,37800,36000,37800,36000,36000,34200,28800,36000,34200,36000,\n",
    "                   36000,36000,28800,34200,-18000,-7200,-10800,-14400,3600,-21600,-14400,-21600,-21600,-18000,-25200,-12600,\n",
    "                   -28800,-21600,-28800,-10800,-18000,-18000,7200,-18000,-18000,7200,0,0,0,-3600,-36000,-39600,-43200,-7200,\n",
    "                   -10800,-14400,-18000,-21600,-25200,-28800,-32400,0,3600,36000,39600,43200,46800,50400,7200,10800,14400,\n",
    "                   18000,21600,25200,28800,32400,0,0,0,0,0,0,3600,3600,7200,0,3600,3600,3600,3600,7200,3600,3600,7200,\n",
    "                   3600,0,3600,0,7200,0,7200,0,7200,7200,0,3600,0,3600,3600,3600,7200,10800,3600,10800,7200,3600,3600,\n",
    "                   3600,3600,7200,3600,14400,3600,3600,7200,3600,7200,3600,7200,3600,7200,7200,3600,3600,3600,7200,10800,\n",
    "                   3600,3600,7200,3600,0,0,0,0,0,0,0,0,-36000,28800,0,10800,21600,25200,23400,10800,18000,14400,18000,\n",
    "                   14400,10800,14400,12600,7200,-18000,32400,43200,7200,3600,-25200,-25200,-28800,-25200,-21600,0,0,0,\n",
    "                   43200,45900,0,0,0,46800,43200,39600,45900,36000,-18000,39600,46800,46800,43200,43200,-21600,-32400,\n",
    "                   39600,36000,-36000,-36000,50400,39600,43200,43200,-34200,-39600,43200,-39600,39600,39600,-39600,32400,\n",
    "                   -28800,39600,36000,-36000,36000,-39600,-36000,43200,46800,36000,43200,43200,36000,3600,0,28800,32400,\n",
    "                   28800,7200,0,-32400,-36000,-25200,-21600,-18000,-18000,-36000,-21600,-18000,-25200,-28800,-28800,\n",
    "                   -39600,0,0,10800,0,0]\n",
    "# countryTimeList"
   ]
  },
  {
   "cell_type": "code",
   "execution_count": 5,
   "id": "9ccb7401",
   "metadata": {},
   "outputs": [],
   "source": [
    "# bootcampSchedule = pd.read_excel('files/BootcampSchedule.xlsx')\n",
    "# # bootcampSchedule.head(3)"
   ]
  },
  {
   "cell_type": "code",
   "execution_count": 19,
   "id": "6bfd31b3",
   "metadata": {},
   "outputs": [],
   "source": [
    "# monthList = bootcampSchedule['Month'].tolist()\n",
    "monthList = ['July','July','July','July','July','July','July','July','August',\n",
    "             'August','August','August','August','August','August',\n",
    "             'August','September','September','September','September','September',\n",
    "             'September','September','September','September','September','September','September']\n",
    "# monthList"
   ]
  },
  {
   "cell_type": "code",
   "execution_count": 20,
   "id": "9e174826",
   "metadata": {},
   "outputs": [],
   "source": [
    "# dates = bootcampSchedule['Date'].tolist()\n",
    "# dateList = []\n",
    "# for dt in dates:\n",
    "#     convertedDt = str(dt).split()    \n",
    "#     dateList.append(convertedDt[0])\n",
    "dateList = ['07-Jul','08-Jul','07-Jul','08-Jul','21-Jul','21-Jul','22-Jul','22-Jul','04-Aug',\n",
    "            '04-Aug','05-Aug','05-Aug','18-Aug','18-Aug','19-Aug','19-Aug','01-Sep','01-Sep','02-Sep','02-Sep',\n",
    "            '15-Sep','15-Sep','16-Sep','16-Sep','29-Sep','29-Sep','30-Sep','30-Sep']\n",
    "# dateList"
   ]
  },
  {
   "cell_type": "code",
   "execution_count": 21,
   "id": "12663184",
   "metadata": {},
   "outputs": [],
   "source": [
    "# timeList = bootcampSchedule['Bootcamp Time (EST)'].tolist()\n",
    "timeList = ['6.00 AM','10.00 AM','6.00 AM','10.00 AM','6.00 AM','10.00 AM',\n",
    "            '6.00 AM','10.00 AM','6.00 AM','10.00 AM','6.00 AM','10.00 AM','6.00 AM',\n",
    "            '10.00 AM','6.00 AM','10.00 AM','6.00 AM','10.00 AM','6.00 AM','10.00 AM',\n",
    "            '6.00 AM','10.00 AM','6.00 AM','10.00 AM','6.00 AM','10.00 AM','6.00 AM','10.00 AM']\n",
    "\n",
    "# timeList"
   ]
  },
  {
   "cell_type": "code",
   "execution_count": 22,
   "id": "388323d6",
   "metadata": {},
   "outputs": [],
   "source": [
    "# cohortList = bootcampSchedule['Cohort'].tolist()\n",
    "cohortList = ['Cohort 14','Cohort 15','Cohort 14','Cohort 15','Cohort 14','Cohort 15',\n",
    "              'Cohort 14','Cohort 15','Cohort 14','Cohort 15','Cohort 14','Cohort 15','Cohort 14',\n",
    "              'Cohort 15','Cohort 14','Cohort 15','Cohort 14','Cohort 15','Cohort 14','Cohort 15',\n",
    "              'Cohort 14','Cohort 15','Cohort 14','Cohort 15','Cohort 14','Cohort 15','Cohort 14','Cohort 15']\n",
    "# cohortList"
   ]
  },
  {
   "cell_type": "code",
   "execution_count": 23,
   "id": "21572c26",
   "metadata": {},
   "outputs": [],
   "source": [
    "# programList = bootcampSchedule['Program'].tolist()\n",
    "programList = ['Data Analytics','Data Science/ML','Data Science/ML','Data Analytics',\n",
    "               'Data Analytics','Data Science/ML','Data Science/ML','Data Analytics',\n",
    "               'Data Analytics','Data Science/ML','Data Science/ML','Data Analytics',\n",
    "               'Data Analytics','Data Science/ML','Data Science/ML','Data Analytics',\n",
    "               'Data Analytics','Data Science/ML','Data Science/ML','Data Analytics',\n",
    "               'Data Analytics','Data Science/ML','Data Science/ML','Data Analytics',\n",
    "               'Data Analytics','Data Science/ML','Data Science/ML','Data Analytics']\n",
    "# programList"
   ]
  },
  {
   "cell_type": "code",
   "execution_count": 24,
   "id": "47210603",
   "metadata": {},
   "outputs": [],
   "source": [
    "# topicList = bootcampSchedule['Topic'].tolist()\n",
    "topicList = ['Python Variables','Data Cleaning','Python Variables','Data Visualization Project 1',\n",
    "             'Python Container','Data Transformation','Python Container','Data Visualization Project 2',\n",
    "             'Python Container II','Data Transformation II','Python Container II','Data Visualization Project 3',\n",
    "             'Python Functions','Feature Selection','Python Functions','Data Visualization Project 4','Python Functions',\n",
    "             'Feature Selection II','Python Functions II','Data Visualization Project 5','Python Pandas I',\n",
    "             'Supervised Learning Intro','Python Pandas I','Data Visualization Project 6','Python Pandas II',\n",
    "             'Unsupervised Learning Intro','Python Pandas II','Data Visualization Project 7']\n",
    "# topicList"
   ]
  },
  {
   "cell_type": "code",
   "execution_count": 12,
   "id": "e31ce036",
   "metadata": {},
   "outputs": [],
   "source": [
    "# for month,dte,t,cohort,program,topic in zip(monthList,dateList,timeList,cohortList,programList,topicList):\n",
    "#     print(month,dte,t,cohort,program,topic)"
   ]
  },
  {
   "cell_type": "code",
   "execution_count": 25,
   "id": "be9237b2",
   "metadata": {},
   "outputs": [],
   "source": [
    "import datetime\n",
    "from datetime import time"
   ]
  },
  {
   "cell_type": "code",
   "execution_count": 48,
   "id": "ab75d635",
   "metadata": {},
   "outputs": [],
   "source": [
    "def convertToUtc(tFrom='6.00 AM',d='07-Jul', zoneTo='Lagos'):\n",
    "#     code to get current system time\n",
    "    now = datetime.datetime.now()\n",
    "    current_time = now.strftime(\"%H:%M:%S\") # formating time to hours minutes and secs\n",
    "#     code to convert bootcamp time\n",
    "    output = f\"Oops!, looks like there is no bootcamp on {d} scheduled for {tFrom}.\" #variable to hold conversion result\n",
    "    timeSplit = tFrom.split() #split the time returned from the file to remove the AM/PM string\n",
    "    for zone,offset in zip(countryList, countryTimeList):\n",
    "        if zone == zoneTo:\n",
    "            for dt, t, cohort in zip(dateList,timeList,cohortList):\n",
    "                    if d == dt:\n",
    "                        if tFrom == t:\n",
    "                            userEquivalentTime = float(timeSplit[0]) + 18000/60/60 + offset/60/60\n",
    "                            if timeSplit[1] == 'AM':\n",
    "                                if userEquivalentTime >= 12.0:\n",
    "                                    output = f\"You are in {zone} area, your current time is {current_time} and your bootcamp time is {userEquivalentTime} PM on {dt}\"\n",
    "                                else:\n",
    "                                    output = f\"You are in {zone} area, your current time is {current_time} and your bootcamp time is {userEquivalentTime} AM on {dt}\"               \n",
    "    return output            "
   ]
  },
  {
   "cell_type": "code",
   "execution_count": 50,
   "id": "9e58605c",
   "metadata": {},
   "outputs": [
    {
     "data": {
      "text/plain": [
       "'Oops!, looks like there is no schedule on 31-Jul scheduled for 6.00 AM.'"
      ]
     },
     "execution_count": 50,
     "metadata": {},
     "output_type": "execute_result"
    }
   ],
   "source": [
    "convertToUtc('6.00 AM','31-Jul','Lagos')"
   ]
  },
  {
   "cell_type": "code",
   "execution_count": 46,
   "id": "7111a5a8",
   "metadata": {},
   "outputs": [
    {
     "name": "stdout",
     "output_type": "stream",
     "text": [
      "Bootcamp scheduled time: e.g 6.00 AM  skjs\n",
      "Bootcamp schedule date: e.g 2022-09-15 sjsjs\n",
      "Which time zone will you be attending from?: e.g Accra, Lagos jsj\n"
     ]
    },
    {
     "data": {
      "text/plain": [
       "'Oops!, looks like there is no schedule on sjsjs scheduled for skjs.'"
      ]
     },
     "execution_count": 46,
     "metadata": {},
     "output_type": "execute_result"
    }
   ],
   "source": [
    "tFrom = input('Bootcamp scheduled time: e.g 6.00 AM ' + ' ')\n",
    "d = input('Bootcamp schedule date: e.g 31-Jul' + ' ')\n",
    "zoneTo = input('Which time zone will you be attending from?: e.g Accra, Lagos' + ' ')\n",
    "\n",
    "convertToUtc(tFrom,d,zoneTo)"
   ]
  },
  {
   "cell_type": "code",
   "execution_count": 49,
   "id": "ece72a3f",
   "metadata": {},
   "outputs": [
    {
     "data": {
      "text/plain": [
       "'You are in Lagos area, your current time is 06:20:45 and your bootcamp time is 12.0 PM on 07-Jul'"
      ]
     },
     "execution_count": 49,
     "metadata": {},
     "output_type": "execute_result"
    }
   ],
   "source": [
    "convertToUtc()"
   ]
  }
 ],
 "metadata": {
  "kernelspec": {
   "display_name": "Python 3",
   "language": "python",
   "name": "python3"
  },
  "language_info": {
   "codemirror_mode": {
    "name": "ipython",
    "version": 3
   },
   "file_extension": ".py",
   "mimetype": "text/x-python",
   "name": "python",
   "nbconvert_exporter": "python",
   "pygments_lexer": "ipython3",
   "version": "3.8.8"
  }
 },
 "nbformat": 4,
 "nbformat_minor": 5
}
