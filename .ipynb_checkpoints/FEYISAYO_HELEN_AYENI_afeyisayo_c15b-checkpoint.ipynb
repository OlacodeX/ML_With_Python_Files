{
 "cells": [
  {
   "cell_type": "code",
   "execution_count": 42,
   "id": "1940a441",
   "metadata": {},
   "outputs": [],
   "source": [
    "tZones = ['Africa/Abidjan','Africa/Accra','Africa/Addis_Ababa','Africa/Algiers','Africa/Asmara','Africa/Asmera',\n",
    "             'Africa/Bamako','Africa/Bangui','Africa/Banjul','Africa/Bissau','Africa/Blantyre','Africa/Brazzaville',\n",
    "             'Africa/Bujumbura','Africa/Cairo','Africa/Casablanca','Africa/Ceuta','Africa/Conakry','Africa/Dakar',\n",
    "             'Africa/Dar_es_Salaam','Africa/Djibouti','Africa/Douala','Africa/El_Aaiun','Africa/Freetown','Africa/Gaborone',\n",
    "             'Africa/Harare','Africa/Johannesburg','Africa/Juba','Africa/Kampala','Africa/Khartoum','Africa/Kigali',\n",
    "             'Africa/Kinshasa','Africa/Lagos','Africa/Libreville','Africa/Lome','Africa/Luanda','Africa/Lubumbashi',\n",
    "             'Africa/Lusaka','Africa/Malabo','Africa/Maputo','Africa/Maseru','Africa/Mbabane','Africa/Mogadishu',\n",
    "             'Africa/Monrovia','Africa/Nairobi','Africa/Ndjamena','Africa/Niamey','Africa/Nouakchott','Africa/Ouagadougou',\n",
    "             'Africa/Porto-Novo','Africa/Sao_Tome','Africa/Timbuktu','Africa/Tripoli','Africa/Tunis','Africa/Windhoek',\n",
    "             'America/Adak','America/Anchorage','America/Anguilla','America/Antigua','America/Araguaina',\n",
    "             'Argentina/Buenos_Aires','Argentina/Catamarca','Argentina/ComodRivadavia',\n",
    "             'Argentina/Cordoba','Argentina/Jujuy','Argentina/La_Rioja','Argentina/Mendoza',\n",
    "             'Argentina/Rio_Gallegos','Argentina/Salta','Argentina/San_Juan',\n",
    "             'Argentina/San_Luis','Argentina/Tucuman','Argentina/Ushuaia','America/Aruba','America/Asuncion',\n",
    "             'America/Atikokan','America/Atka','America/Bahia','America/Bahia_Banderas','America/Barbados',\n",
    "             'America/Belem','America/Belize','America/Blanc-Sablon','America/Boa_Vista','America/Bogota',\n",
    "             'America/Boise','America/Buenos_Aires','America/Cambridge_Bay','America/Campo_Grande','America/Cancun',\n",
    "             'America/Caracas','America/Catamarca','America/Cayenne','America/Cayman','America/Chicago','America/Chihuahua',\n",
    "             'America/Coral_Harbour','America/Cordoba','America/Costa_Rica','America/Creston','America/Cuiaba',\n",
    "             'America/Curacao','America/Danmarkshavn','America/Dawson','America/Dawson_Creek','America/Denver',\n",
    "             'America/Detroit','America/Dominica','America/Edmonton','America/Eirunepe','America/El_Salvador',\n",
    "             'America/Ensenada','America/Fort_Nelson','America/Fort_Wayne','America/Fortaleza','America/Glace_Bay',\n",
    "             'America/Godthab','America/Goose_Bay','America/Grand_Turk','America/Grenada','America/Guadeloupe',\n",
    "             'America/Guatemala','America/Guayaquil','America/Guyana','America/Halifax','America/Havana',\n",
    "             'America/Hermosillo','America/Indiana/Indianapolis','America/Indiana/Knox','America/Indiana/Marengo',\n",
    "             'America/Indiana/Petersburg','America/Indiana/Tell_City','Indiana/Vevay','Indiana/Vincennes',\n",
    "             'Indiana/Winamac','America/Indianapolis','America/Inuvik','America/Iqaluit','America/Jamaica','America/Jujuy',\n",
    "             'America/Juneau','Kentucky/Louisville','America/Kentucky/Monticello','America/Knox_IN',\n",
    "             'America/Kralendijk','America/La_Paz','America/Lima','America/Los_Angeles','America/Louisville',\n",
    "             'America/Lower_Princes','America/Maceio','America/Managua','America/Manaus','America/Marigot',\n",
    "             'America/Martinique','America/Matamoros','America/Mazatlan','America/Mendoza','America/Menominee',\n",
    "             'America/Merida','America/Metlakatla','America/Mexico_City','America/Miquelon','America/Moncton',\n",
    "             'America/Monterrey','America/Montevideo','America/Montreal','America/Montserrat','America/Nassau',\n",
    "             'America/New_York','America/Nipigon','America/Nome','America/Noronha','America/North_Dakota/Beulah',\n",
    "             'America/North_Dakota/Center','America/North_Dakota/New_Salem','America/Ojinaga','America/Panama',\n",
    "             'America/Pangnirtung','America/Paramaribo','America/Phoenix','America/Port-au-Prince','America/Port_of_Spain',\n",
    "             'America/Porto_Acre','America/Porto_Velho','America/Puerto_Rico','America/Rainy_River','America/Rankin_Inlet',\n",
    "             'America/Recife','America/Regina','America/Resolute','America/Rio_Branco','America/Rosario','America/Santa_Isabel',\n",
    "             'America/Santarem','America/Santiago','America/Santo_Domingo','America/Sao_Paulo','America/Scoresbysund',\n",
    "             'America/Shiprock','America/Sitka','America/St_Barthelemy','America/St_Johns','America/St_Kitts',\n",
    "             'America/St_Lucia','America/St_Thomas','America/St_Vincent','America/Swift_Current','America/Tegucigalpa',\n",
    "             'America/Thule','America/Thunder_Bay','America/Tijuana','America/Toronto','America/Tortola','America/Vancouver',\n",
    "             'America/Virgin','America/Whitehorse','America/Winnipeg','America/Yakutat','America/Yellowknife',\n",
    "             'Antarctica/Casey','Antarctica/Davis','Antarctica/DumontDUrville','Antarctica/Macquarie','Antarctica/Mawson',\n",
    "             'Antarctica/McMurdo','Antarctica/Palmer','Antarctica/Rothera','Antarctica/South_Pole','Antarctica/Syowa',\n",
    "             'Antarctica/Troll','Antarctica/Vostok','Arctic/Longyearbyen','Asia/Aden','Asia/Almaty','Asia/Amman',\n",
    "             'Asia/Anadyr','Asia/Aqtau','Asia/Aqtobe','Asia/Ashgabat','Asia/Ashkhabad','Asia/Baghdad','Asia/Bahrain',\n",
    "             'Asia/Baku','Asia/Bangkok','Asia/Beirut','Asia/Bishkek','Asia/Brunei','Asia/Calcutta','Asia/Chita',\n",
    "             'Asia/Choibalsan','Asia/Chongqing','Asia/Chungking','Asia/Colombo','Asia/Dacca','Asia/Damascus',\n",
    "             'Asia/Dhaka','Asia/Dili','Asia/Dubai','Asia/Dushanbe','Asia/Gaza','Asia/Harbin','Asia/Hebron',\n",
    "             'Asia/Ho_Chi_Minh','Asia/Hong_Kong','Asia/Hovd','Asia/Irkutsk','Asia/Istanbul','Asia/Jakarta',\n",
    "             'Asia/Jayapura','Asia/Jerusalem','Asia/Kabul','Asia/Kamchatka','Asia/Karachi','Asia/Kashgar',\n",
    "             'Asia/Kathmandu','Asia/Katmandu','Asia/Khandyga','Asia/Kolkata','Asia/Krasnoyarsk','Asia/Kuala_Lumpur',\n",
    "             'Asia/Kuching','Asia/Kuwait','Asia/Macao','Asia/Macau','Asia/Magadan','Asia/Makassar','Asia/Manila',\n",
    "             'Asia/Muscat','Asia/Nicosia','Asia/Novokuznetsk','Asia/Novosibirsk','Asia/Omsk','Asia/Oral','Asia/Phnom_Penh',\n",
    "             'Asia/Pontianak','Asia/Pyongyang','Asia/Qatar','Asia/Qyzylorda','Asia/Rangoon','Asia/Riyadh','Asia/Riyadh87',\n",
    "             'Asia/Riyadh88','Asia/Riyadh89','Asia/Saigon','Asia/Sakhalin','Asia/Samarkand','Asia/Seoul','Asia/Shanghai',\n",
    "             'Asia/Singapore','Asia/Srednekolymsk','Asia/Taipei','Asia/Tashkent','Asia/Tbilisi','Asia/Tehran','Asia/Tel_Aviv',\n",
    "             'Asia/Thimbu','Asia/Thimphu','Asia/Tokyo','Asia/Ujung_Pandang','Asia/Ulaanbaatar','Asia/Ulan_Bator','Asia/Urumqi',\n",
    "             'Asia/Vientiane','Asia/Vladivostok','Asia/Yakutsk','Asia/Yekaterinburg','Asia/Yerevan','Atlantic/Azores',\n",
    "             'Atlantic/Bermuda','Atlantic/Canary','Atlantic/Cape_Verde','Atlantic/Faeroe','Atlantic/Faroe','Atlantic/Jan_Mayen',\n",
    "             'Atlantic/Madeira','Atlantic/Reykjavik','Atlantic/South_Georgia','Atlantic/St_Helena','Atlantic/Stanley',\n",
    "             'Australia/ACT','Australia/Adelaide','Australia/Brisbane','Australia/Broken_Hill','Australia/Canberra',\n",
    "             'Australia/Currie','Australia/Darwin','Australia/Eucla','Australia/Hobart','Australia/LHI','Australia/Lindeman',\n",
    "             'Australia/Lord_Howe','Australia/Melbourne','Australia/NSW','Australia/North','Australia/Perth',\n",
    "             'Australia/Queensland','Australia/South','Australia/Sydney','Australia/Tasmania','Australia/Victoria',\n",
    "             'Australia/West','Australia/Yancowinna','Brazil/Acre','Brazil/DeNoronha','Brazil/East','Brazil/West',\n",
    "             'CET','CST6CDT','Canada/Atlantic','Canada/Central','Canada/East-Saskatchewan','Canada/Eastern','Canada/Mountain',\n",
    "             'Canada/Newfoundland','Canada/Pacific','Canada/Saskatchewan','Canada/Yukon','Chile/Continental',\n",
    "             'Chile/EasterIsland','Cuba','EET','EST','EST5EDT','Egypt','Eire','Etc/GMT','Etc/GMT+0','Etc/GMT+1',\n",
    "             'Etc/GMT+10','Etc/GMT+11','Etc/GMT+12','Etc/GMT+2','Etc/GMT+3','Etc/GMT+4','Etc/GMT+5','Etc/GMT+6','Etc/GMT+7',\n",
    "             'Etc/GMT+8','Etc/GMT+9','Etc/GMT-0','Etc/GMT-1','Etc/GMT-10','Etc/GMT-11','Etc/GMT-12','Etc/GMT-13',\n",
    "             'Etc/GMT-14','Etc/GMT-2','Etc/GMT-3','Etc/GMT-4','Etc/GMT-5','Etc/GMT-6','Etc/GMT-7','Etc/GMT-8',\n",
    "             'Etc/GMT-9','Etc/GMT0','Etc/Greenwich','Etc/UCT','Etc/UTC','Etc/Universal','Etc/Zulu','Europe/Amsterdam',\n",
    "             'Europe/Andorra','Europe/Athens','Europe/Belfast','Europe/Belgrade','Europe/Berlin','Europe/Bratislava',\n",
    "             'Europe/Brussels','Europe/Bucharest','Europe/Budapest','Europe/Busingen','Europe/Chisinau','Europe/Copenhagen',\n",
    "             'Europe/Dublin','Europe/Gibraltar','Europe/Guernsey','Europe/Helsinki','Europe/Isle_of_Man','Europe/Istanbul',\n",
    "             'Europe/Jersey','Europe/Kaliningrad','Europe/Kiev','Europe/Lisbon','Europe/Ljubljana','Europe/London',\n",
    "             'Europe/Luxembourg','Europe/Madrid','Europe/Malta','Europe/Mariehamn','Europe/Minsk','Europe/Monaco',\n",
    "             'Europe/Moscow','Europe/Nicosia','Europe/Oslo','Europe/Paris','Europe/Podgorica','Europe/Prague','Europe/Riga',\n",
    "             'Europe/Rome','Europe/Samara','Europe/San_Marino','Europe/Sarajevo','Europe/Simferopol','Europe/Skopje',\n",
    "             'Europe/Sofia','Europe/Stockholm','Europe/Tallinn','Europe/Tirane','Europe/Tiraspol','Europe/Uzhgorod',\n",
    "             'Europe/Vaduz','Europe/Vatican','Europe/Vienna','Europe/Vilnius','Europe/Volgograd','Europe/Warsaw',\n",
    "             'Europe/Zagreb','Europe/Zaporozhye','Europe/Zurich','Factory','GB','GB-Eire','GMT','GMT+0','GMT-0','GMT0',\n",
    "             'Greenwich','HST','Hongkong','Iceland','Indian/Antananarivo','Indian/Chagos','Indian/Christmas','Indian/Cocos',\n",
    "             'Indian/Comoro','Indian/Kerguelen','Indian/Mahe','Indian/Maldives','Indian/Mauritius','Indian/Mayotte',\n",
    "             'Indian/Reunion','Iran','Israel','Jamaica','Japan','Kwajalein','Libya','MET','MST','MST7MDT','Mexico/BajaNorte',\n",
    "             'Mexico/BajaSur','Mexico/General','Mideast/Riyadh87','Mideast/Riyadh88','Mideast/Riyadh89','NZ','NZ-CHAT','Navajo',\n",
    "             'PRC','PST8PDT','Pacific/Apia','Pacific/Auckland','Pacific/Bougainville','Pacific/Chatham','Pacific/Chuuk',\n",
    "             'Pacific/Easter','Pacific/Efate','Pacific/Enderbury','Pacific/Fakaofo','Pacific/Fiji','Pacific/Funafuti',\n",
    "             'Pacific/Galapagos','Pacific/Gambier','Pacific/Guadalcanal','Pacific/Guam','Pacific/Honolulu','Pacific/Johnston',\n",
    "             'Pacific/Kiritimati','Pacific/Kosrae','Pacific/Kwajalein','Pacific/Majuro','Pacific/Marquesas','Pacific/Midway',\n",
    "             'Pacific/Nauru','Pacific/Niue','Pacific/Norfolk','Pacific/Noumea','Pacific/Pago_Pago','Pacific/Palau',\n",
    "             'Pacific/Pitcairn','Pacific/Ponape','Pacific/Port_Moresby','Pacific/Rarotonga','Pacific/Saipan','Pacific/Samoa',\n",
    "             'Pacific/Tahiti','Pacific/Tarawa','Pacific/Tongatapu','Pacific/Truk','Pacific/Wake','Pacific/Wallis','Pacific/Yap',\n",
    "             'Poland','Portugal','ROC','ROK','Singapore','Turkey','UCT','US/Alaska','US/Aleutian','US/Arizona','US/Central',\n",
    "             'US/East-Indiana','US/Eastern','US/Hawaii','US/Indiana-Starke','US/Michigan','US/Mountain','US/Pacific',\n",
    "             'US/Pacific-New','US/Samoa','UTC','Universal','W-SU','WET','Zulu'\n",
    "]"
   ]
  },
  {
   "cell_type": "code",
   "execution_count": 44,
   "id": "e17f2a60",
   "metadata": {},
   "outputs": [],
   "source": [
    "listOfCountries = [] #empty list to hold the list of countries\n",
    "\n",
    "# seperate the region from the country\n",
    "for items in tZones:\n",
    "    if '/' in items:\n",
    "        parts = items.split('/')\n",
    "        listOfCountries.append(parts[1])\n",
    "        #print(countryPart)\n",
    "    else:\n",
    "        parts= items\n",
    "# listOfCountries"
   ]
  },
  {
   "cell_type": "code",
   "execution_count": 10,
   "id": "315bff7e",
   "metadata": {},
   "outputs": [],
   "source": [
    "timeList = [0,0,10800,3600,10800,10800,0,3600,0,0,7200,3600,7200,7200,0,3600,0,0,10800,10800,\n",
    "                   3600,0,0,7200,7200,7200,10800,10800,10800,7200,3600,3600,3600,0,3600,7200,7200,3600,7200,7200,7200,\n",
    "                   10800,0,10800,3600,3600,0,0,3600,0,0,7200,3600,3600,-36000,-32400,-14400,-14400,-10800,-10800,-10800,\n",
    "                   -10800,-10800,-10800,-10800,-10800,-10800,-10800,-10800,-10800,-10800,-10800,-14400,-10800,-18000,-36000,\n",
    "                   -10800,-21600,-14400,-10800,-21600,-14400,-14400,-18000,-25200,-10800,-25200,-14400,-18000,-16200,-10800,\n",
    "                   -10800,-18000,-21600,-25200,-18000,-10800,-21600,-25200,-14400,-14400,0,-28800,-25200,-25200,-18000,-14400,\n",
    "                   -25200,-18000,-21600,-28800,-25200,-18000,-10800,-14400,-10800,-14400,-14400,-14400,-14400,-21600,-18000,\n",
    "                   -14400,-14400,-18000,-25200,-18000,-21600,-18000,-18000,-21600,-18000,-18000,-18000,-18000,-25200,-18000,\n",
    "                   -18000,-10800,-32400,-18000,-18000,-21600,-14400,-14400,-18000,-28800,-18000,-14400,-10800,-21600,-14400,\n",
    "                   -14400,-14400,-21600,-25200,-10800,-21600,-21600,-28800,-21600,-10800,-14400,-21600,-10800,-18000,-14400,\n",
    "                   -18000,-18000,-18000,-32400,-7200,-21600,-21600,-21600,-25200,-18000,-18000,-10800,-25200,-18000,-14400,\n",
    "                   -18000,-14400,-14400,-21600,-21600,-10800,-21600,-21600,-18000,-10800,-28800,-10800,-10800,-14400,-10800,\n",
    "                   -3600,-25200,-32400,-14400,-12600,-14400,-14400,-14400,-14400,-21600,-21600,-14400,-18000,-28800,-18000,\n",
    "                   -14400,-28800,-14400,-28800,-21600,-32400,-25200,28800,25200,36000,39600,18000,43200,-10800,-10800,43200,\n",
    "                   10800,0,21600,3600,10800,21600,7200,43200,18000,18000,18000,18000,10800,10800,14400,25200,7200,21600,28800,\n",
    "                   19800,28800,28800,28800,28800,19800,21600,7200,21600,32400,14400,18000,7200,28800,7200,25200,28800,25200,\n",
    "                   28800,7200,25200,32400,7200,16200,43200,18000,21600,20700,20700,32400,19800,25200,28800,28800,10800,28800,\n",
    "                   28800,36000,28800,28800,14400,7200,25200,21600,21600,18000,25200,25200,30600,10800,21600,23400,10800,10800,\n",
    "                   10800,10800,25200,36000,18000,32400,28800,28800,39600,28800,18000,14400,12600,7200,21600,21600,32400,28800,\n",
    "                   28800,28800,21600,25200,36000,32400,18000,14400,-3600,-14400,0,-3600,0,0,3600,0,0,-7200,0,-10800,36000,\n",
    "                   34200,36000,34200,36000,36000,34200,31500,36000,37800,36000,37800,36000,36000,34200,28800,36000,34200,36000,\n",
    "                   36000,36000,28800,34200,-18000,-7200,-10800,-14400,3600,-21600,-14400,-21600,-21600,-18000,-25200,-12600,\n",
    "                   -28800,-21600,-28800,-10800,-18000,-18000,7200,-18000,-18000,7200,0,0,0,-3600,-36000,-39600,-43200,-7200,\n",
    "                   -10800,-14400,-18000,-21600,-25200,-28800,-32400,0,3600,36000,39600,43200,46800,50400,7200,10800,14400,\n",
    "                   18000,21600,25200,28800,32400,0,0,0,0,0,0,3600,3600,7200,0,3600,3600,3600,3600,7200,3600,3600,7200,\n",
    "                   3600,0,3600,0,7200,0,7200,0,7200,7200,0,3600,0,3600,3600,3600,7200,10800,3600,10800,7200,3600,3600,\n",
    "                   3600,3600,7200,3600,14400,3600,3600,7200,3600,7200,3600,7200,3600,7200,7200,3600,3600,3600,7200,10800,\n",
    "                   3600,3600,7200,3600,0,0,0,0,0,0,0,0,-36000,28800,0,10800,21600,25200,23400,10800,18000,14400,18000,\n",
    "                   14400,10800,14400,12600,7200,-18000,32400,43200,7200,3600,-25200,-25200,-28800,-25200,-21600,0,0,0,\n",
    "                   43200,45900,0,0,0,46800,43200,39600,45900,36000,-18000,39600,46800,46800,43200,43200,-21600,-32400,\n",
    "                   39600,36000,-36000,-36000,50400,39600,43200,43200,-34200,-39600,43200,-39600,39600,39600,-39600,32400,\n",
    "                   -28800,39600,36000,-36000,36000,-39600,-36000,43200,46800,36000,43200,43200,36000,3600,0,28800,32400,\n",
    "                   28800,7200,0,-32400,-36000,-25200,-21600,-18000,-18000,-36000,-21600,-18000,-25200,-28800,-28800,\n",
    "                   -39600,0,0,10800,0,0]\n",
    "# timeList"
   ]
  },
  {
   "cell_type": "code",
   "execution_count": 11,
   "id": "20be85db",
   "metadata": {},
   "outputs": [],
   "source": [
    "listOfMonths =  ['July','July','July','July','July','July','July','July','August',\n",
    "             'August','August','August','August','August','August',\n",
    "             'August','September','September','September','September','September',\n",
    "             'September','September','September','September','September','September','September']\n",
    "# listOfMonths"
   ]
  },
  {
   "cell_type": "code",
   "execution_count": 12,
   "id": "35e36d23",
   "metadata": {},
   "outputs": [],
   "source": [
    "dtList = ['07-Jul','08-Jul','07-Jul','08-Jul','21-Jul','21-Jul','22-Jul','22-Jul','04-Aug',\n",
    "            '04-Aug','05-Aug','05-Aug','18-Aug','18-Aug','19-Aug','19-Aug','01-Sep','01-Sep','02-Sep','02-Sep',\n",
    "            '15-Sep','15-Sep','16-Sep','16-Sep','29-Sep','29-Sep','30-Sep','30-Sep']"
   ]
  },
  {
   "cell_type": "code",
   "execution_count": 13,
   "id": "2765c804",
   "metadata": {},
   "outputs": [],
   "source": [
    "bcTimeList = ['6.00 AM','10.00 AM','6.00 AM','10.00 AM','6.00 AM','10.00 AM',\n",
    "            '6.00 AM','10.00 AM','6.00 AM','10.00 AM','6.00 AM','10.00 AM','6.00 AM',\n",
    "            '10.00 AM','6.00 AM','10.00 AM','6.00 AM','10.00 AM','6.00 AM','10.00 AM',\n",
    "            '6.00 AM','10.00 AM','6.00 AM','10.00 AM','6.00 AM','10.00 AM','6.00 AM','10.00 AM']\n",
    "# bcTimeList"
   ]
  },
  {
   "cell_type": "code",
   "execution_count": 14,
   "id": "83c2da22",
   "metadata": {},
   "outputs": [],
   "source": [
    "listOfCohorts = ['Cohort 14','Cohort 15','Cohort 14','Cohort 15','Cohort 14','Cohort 15',\n",
    "              'Cohort 14','Cohort 15','Cohort 14','Cohort 15','Cohort 14','Cohort 15','Cohort 14',\n",
    "              'Cohort 15','Cohort 14','Cohort 15','Cohort 14','Cohort 15','Cohort 14','Cohort 15',\n",
    "              'Cohort 14','Cohort 15','Cohort 14','Cohort 15','Cohort 14','Cohort 15','Cohort 14','Cohort 15']\n",
    "# listOfCohorts"
   ]
  },
  {
   "cell_type": "code",
   "execution_count": 15,
   "id": "4e1473f4",
   "metadata": {},
   "outputs": [],
   "source": [
    "listOfPrograms = ['Data Analytics','Data Science/ML','Data Science/ML','Data Analytics',\n",
    "               'Data Analytics','Data Science/ML','Data Science/ML','Data Analytics',\n",
    "               'Data Analytics','Data Science/ML','Data Science/ML','Data Analytics',\n",
    "               'Data Analytics','Data Science/ML','Data Science/ML','Data Analytics',\n",
    "               'Data Analytics','Data Science/ML','Data Science/ML','Data Analytics',\n",
    "               'Data Analytics','Data Science/ML','Data Science/ML','Data Analytics',\n",
    "               'Data Analytics','Data Science/ML','Data Science/ML','Data Analytics']\n",
    "# listOfPrograms"
   ]
  },
  {
   "cell_type": "code",
   "execution_count": 17,
   "id": "9ab72b39",
   "metadata": {},
   "outputs": [],
   "source": [
    "listOfTopics = ['Python Variables','Data Cleaning','Python Variables','Data Visualization Project 1',\n",
    "             'Python Container','Data Transformation','Python Container','Data Visualization Project 2',\n",
    "             'Python Container II','Data Transformation II','Python Container II','Data Visualization Project 3',\n",
    "             'Python Functions','Feature Selection','Python Functions','Data Visualization Project 4','Python Functions',\n",
    "             'Feature Selection II','Python Functions II','Data Visualization Project 5','Python Pandas I',\n",
    "             'Supervised Learning Intro','Python Pandas I','Data Visualization Project 6','Python Pandas II',\n",
    "             'Unsupervised Learning Intro','Python Pandas II','Data Visualization Project 7']\n",
    "# listOfTopics"
   ]
  },
  {
   "cell_type": "code",
   "execution_count": 18,
   "id": "2cb17544",
   "metadata": {},
   "outputs": [],
   "source": [
    "import datetime\n",
    "from datetime import time"
   ]
  },
  {
   "cell_type": "code",
   "execution_count": 56,
   "id": "33d0251e",
   "metadata": {},
   "outputs": [],
   "source": [
    "def convertUserTime(bcTime='6.00 AM',bcDate='07-Jul', userZone='Ikere'):\n",
    "#     code to get current system time\n",
    "    now = datetime.datetime.now()\n",
    "    current_time = now.strftime(\"%H:%M:%S\") # formating time to hours minutes and secs\n",
    "#     code to convert bootcamp time\n",
    "    finalConversion = f\"No bootcamp scheduled for {bcDate} or the specified country, {userZone} is not available\" #variable to hold conversion result\n",
    "    timeSplit = bcTime.split() #split the time returned from the file to remove the AM/PM string\n",
    "    for zone,offset in zip(listOfCountries, timeList):\n",
    "        if zone == userZone:\n",
    "            for dt, t, cohort in zip(dtList,bcTimeList,listOfCohorts):\n",
    "                    if bcDate == dt:\n",
    "                        if bcTime == t:\n",
    "                            userEquivalentTime = float(timeSplit[0]) + 18000/60/60 + offset/60/60\n",
    "                            finalConversion = f\"Your current time is {current_time} and your bootcamp time is {userEquivalentTime} on {dt}\"\n",
    "                        \n",
    "    return finalConversion           "
   ]
  },
  {
   "cell_type": "code",
   "execution_count": 57,
   "id": "a8c53568",
   "metadata": {},
   "outputs": [
    {
     "data": {
      "text/plain": [
       "'No bootcamp scheduled for 07-Jul or the specified country, Ikere is not available'"
      ]
     },
     "execution_count": 57,
     "metadata": {},
     "output_type": "execute_result"
    }
   ],
   "source": [
    "convertUserTime()"
   ]
  },
  {
   "cell_type": "code",
   "execution_count": 58,
   "id": "531208a2",
   "metadata": {},
   "outputs": [
    {
     "name": "stdout",
     "output_type": "stream",
     "text": [
      "Bootcamp scheduled time: e.g 6.00 AM  6.00 AM\n",
      "Bootcamp schedule date: e.g 07-Jul 07-Jul\n",
      "Which time zone will you be attneding from?: e.g Accra, Lagos Lagos\n"
     ]
    },
    {
     "data": {
      "text/plain": [
       "'Your current time is 15:07:23 and your bootcamp time is 12.0 on 07-Jul'"
      ]
     },
     "execution_count": 58,
     "metadata": {},
     "output_type": "execute_result"
    }
   ],
   "source": [
    "bcTime = input('Bootcamp scheduled time: e.g 6.00 AM ' + ' ')\n",
    "bcDate = input('Bootcamp schedule date: e.g 07-Jul' + ' ')\n",
    "userZone = input('Which time zone will you be attneding from?: e.g Accra, Lagos' + ' ')\n",
    "\n",
    "convertUserTime(bcTime,bcDate,userZone)"
   ]
  },
  {
   "cell_type": "code",
   "execution_count": null,
   "id": "ec3d5fea",
   "metadata": {},
   "outputs": [],
   "source": []
  }
 ],
 "metadata": {
  "kernelspec": {
   "display_name": "Python 3",
   "language": "python",
   "name": "python3"
  },
  "language_info": {
   "codemirror_mode": {
    "name": "ipython",
    "version": 3
   },
   "file_extension": ".py",
   "mimetype": "text/x-python",
   "name": "python",
   "nbconvert_exporter": "python",
   "pygments_lexer": "ipython3",
   "version": "3.8.8"
  }
 },
 "nbformat": 4,
 "nbformat_minor": 5
}
