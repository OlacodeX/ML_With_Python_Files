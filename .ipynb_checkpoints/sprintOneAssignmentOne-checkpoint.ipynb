{
 "cells": [
  {
   "cell_type": "markdown",
   "id": "0523e0b2",
   "metadata": {},
   "source": [
    "## Solution to Question One"
   ]
  },
  {
   "cell_type": "code",
   "execution_count": 4,
   "id": "2286e060",
   "metadata": {},
   "outputs": [],
   "source": [
    "bottledWater = '15 Packs'\n",
    "suiteCases = 5\n",
    "golfKit = 1\n",
    "golfClubs = 30"
   ]
  },
  {
   "cell_type": "markdown",
   "id": "cc238787",
   "metadata": {},
   "source": [
    "## Solution to Question Two"
   ]
  },
  {
   "cell_type": "markdown",
   "id": "8a21120d",
   "metadata": {},
   "source": [
    "#### Problem A"
   ]
  },
  {
   "cell_type": "markdown",
   "id": "f683a55e",
   "metadata": {},
   "source": [
    "### vehicleSpeed  =  45kph\n",
    "\n",
    "The variable above will return a syntax error because the value contains two different object types of integer and string.\n",
    "We can solve this problem by either wrapping the value in quotes\n",
    "so that python treats it as a string or we break the variable into \n",
    "two. one will be integer the other will be string to hold the unit.\n",
    "This way we can then use string formating to print out the values\n",
    "or we convert the integer to string at the point of printing then\n",
    "concatenate the unit which is in string already with it.\n",
    "\n",
    "### THE SOLUTION MIGHT LOOK LIKE EITHER OF THIS:\n",
    "\n",
    "#### vehicleSpeed = '45kph'\n",
    "#### print(vehicleSpeed)\n",
    "### OR\n",
    "#### vehicleSpeed = 45\n",
    "#### speedUnit = 'kph'\n",
    "#### print(f'{vehicleSpeed}{speedUnit}') or print(str(vehicleSpeed) + speedUnit)"
   ]
  },
  {
   "cell_type": "markdown",
   "id": "12aa41f9",
   "metadata": {},
   "source": [
    "#### Problem B"
   ]
  },
  {
   "cell_type": "markdown",
   "id": "a2d03346",
   "metadata": {},
   "source": [
    "### studentWeight = 85 kg\n",
    "\n",
    "The code above has two problems, first is that the value has white space inbetween the measurement and the unit. This syntax is not acceptable in python. Second problem is that, if we remove the white space we will still arrive at the problem with problem A because that will mean we are trying to marry two objects of entirely different types of string and integer together which is also an invalid syntax in python.\n",
    "We can solve this problem by removing the whitespace first and then applying the solution of problem A to it. If however not important to the problem our code is trying to solve, we can entirely remove the unit. "
   ]
  },
  {
   "cell_type": "markdown",
   "id": "7cbe7323",
   "metadata": {},
   "source": [
    "#### Problem C"
   ]
  },
  {
   "cell_type": "markdown",
   "id": "5682ed3d",
   "metadata": {},
   "source": [
    "### happiness Rating = ‘Very Happy’\n",
    "\n",
    "The variable name has a white space hence the syntax will be invalid since python does not allow such practices.\n",
    "A quick fix is to remove the white space, this way the variable name will follow the camel case syntax of python variable naming.\n"
   ]
  },
  {
   "cell_type": "markdown",
   "id": "c93b6196",
   "metadata": {},
   "source": [
    "#### Problem D"
   ]
  },
  {
   "cell_type": "markdown",
   "id": "98408ff9",
   "metadata": {},
   "source": [
    "### count, subcount = 95\n",
    "\n",
    "The block of code above wants to assign values to multiple variables at the same time. However, the number of variables is not equal to the number of specified values hence python throws an error.\n",
    "A quick fix will be to add an additional value to the one specified separated by a coma or delete one of the specified variables together with the coma separating them."
   ]
  },
  {
   "cell_type": "markdown",
   "id": "cbf021a3",
   "metadata": {},
   "source": [
    "## Solution to Question Three"
   ]
  },
  {
   "cell_type": "markdown",
   "id": "368cddd4",
   "metadata": {},
   "source": [
    "### Part A - Variables"
   ]
  },
  {
   "cell_type": "code",
   "execution_count": null,
   "id": "d929fb56",
   "metadata": {},
   "outputs": [],
   "source": [
    "# This solution employed the use of dictionaries\n",
    "studentOne = {\n",
    "    'name' : 'Rowland Brooks',\n",
    "    'age'  : 30,\n",
    "    'mStatus' : 'Single',\n",
    "    'numberOfChildren' : 4\n",
    "}\n",
    "studentTwo = {\n",
    "    'name' : 'Tambe Bwali',\n",
    "    'age'  : 27,\n",
    "    'mStatus' : 'Married',\n",
    "    'numberOfChildren' : 6\n",
    "}\n",
    "studentThree = {\n",
    "    'name' : 'Bitrus Yagi',\n",
    "    'age'  : 40,\n",
    "    'mStatus' : 'Married',\n",
    "    'numberOfChildren' : 2\n",
    "}\n",
    "studentFour = {\n",
    "    'name' : 'Kofi Kwame',\n",
    "    'age'  : 51,\n",
    "    'mStatus' : 'Single',\n",
    "    'numberOfChildren' : 7\n",
    "}\n",
    "studentFive = {\n",
    "    'name' : 'Butuwase Nglesi',\n",
    "    'age'  : 38,\n",
    "    'mStatus' : 'Single',\n",
    "    'numberOfChildren' : 0\n",
    "}\n",
    "studentSix = {\n",
    "    'name' : 'Peter Okafor',\n",
    "    'age'  : 33,\n",
    "    'mStatus' : 'Married',\n",
    "    'numberOfChildren' : 3\n",
    "}\n",
    "studentSeven = {\n",
    "    'name' : 'Adebo Babalaki',\n",
    "    'age'  : 51,\n",
    "    'mStatus' : 'Divorced',\n",
    "    'numberOfChildren' : 9\n",
    "}"
   ]
  },
  {
   "cell_type": "markdown",
   "id": "e98d367f",
   "metadata": {},
   "source": [
    "### Part B - Lists"
   ]
  },
  {
   "cell_type": "code",
   "execution_count": 5,
   "id": "ed1ea4cd",
   "metadata": {},
   "outputs": [],
   "source": [
    "studentNames = ['Rowland Brooks', 'Tambe Bwali', 'Bitrus Yagi',\n",
    "                'Kofi Kwame', 'Butuwase Nglesi',\n",
    "               'Peter Okafor', 'Adebo Babalaki']\n",
    "studentAges = [30, 27, 40, 51, 38, 33, 51]\n",
    "studentMStatus = ['Single','Married', 'Married','Single',\n",
    "                  'Single', 'Married', 'Divorced']\n",
    "numberOfChildren = [4, 6, 2, 7, 0, 3, 9]"
   ]
  },
  {
   "cell_type": "markdown",
   "id": "4361dc9d",
   "metadata": {},
   "source": [
    "## Solution to Question Four"
   ]
  },
  {
   "cell_type": "code",
   "execution_count": 12,
   "id": "9925df24",
   "metadata": {},
   "outputs": [
    {
     "name": "stdout",
     "output_type": "stream",
     "text": [
      "4700.0 Pesos\n"
     ]
    }
   ],
   "source": [
    "# Mandel's total income\n",
    "salary = 12000\n",
    "moneyOwedMandel = 2500\n",
    "totalIncome = salary + moneyOwedMandel\n",
    "\n",
    "# Mandel's total expenditure\n",
    "debtToNgelesi = 300\n",
    "debtToBelinda = 500\n",
    "unpaidBills = 3000\n",
    "totalDebt = debtToNgelesi + debtToBelinda + unpaidBills\n",
    "savings = (50/100) * salary\n",
    "totalExpenditure = totalDebt + savings\n",
    "\n",
    "# Mandel's balance\n",
    "balanceWithMandel = totalIncome - totalExpenditure\n",
    "print(f'{balanceWithMandel}' + \" \" + 'Pesos')\n"
   ]
  }
 ],
 "metadata": {
  "kernelspec": {
   "display_name": "Python 3",
   "language": "python",
   "name": "python3"
  },
  "language_info": {
   "codemirror_mode": {
    "name": "ipython",
    "version": 3
   },
   "file_extension": ".py",
   "mimetype": "text/x-python",
   "name": "python",
   "nbconvert_exporter": "python",
   "pygments_lexer": "ipython3",
   "version": "3.8.8"
  }
 },
 "nbformat": 4,
 "nbformat_minor": 5
}
