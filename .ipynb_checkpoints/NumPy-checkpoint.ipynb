{
 "cells": [
  {
   "cell_type": "markdown",
   "id": "5a5e38f1",
   "metadata": {},
   "source": [
    "### NumPy Arrays\n",
    "##### They are either 1-d or 2-d"
   ]
  },
  {
   "cell_type": "code",
   "execution_count": 1,
   "id": "05623ae1",
   "metadata": {},
   "outputs": [],
   "source": [
    "import numpy as np"
   ]
  },
  {
   "cell_type": "code",
   "execution_count": 3,
   "id": "6e1671ac",
   "metadata": {},
   "outputs": [
    {
     "data": {
      "text/plain": [
       "array([1, 2, 3])"
      ]
     },
     "execution_count": 3,
     "metadata": {},
     "output_type": "execute_result"
    }
   ],
   "source": [
    "#Create a list\n",
    "my_list = [1,2,3]\n",
    "#Convert it into an array using numpy\n",
    "arr = np.array(my_list)\n",
    "arr"
   ]
  },
  {
   "cell_type": "code",
   "execution_count": 5,
   "id": "c50e00d1",
   "metadata": {},
   "outputs": [
    {
     "data": {
      "text/plain": [
       "array([[1, 2, 3],\n",
       "       [4, 5, 6],\n",
       "       [7, 8, 9]])"
      ]
     },
     "execution_count": 5,
     "metadata": {},
     "output_type": "execute_result"
    }
   ],
   "source": [
    "my_mat = [[1,2,3],[4,5,6],[7,8,9]]\n",
    "twoDArr = np.array(my_mat)\n",
    "twoDArr"
   ]
  },
  {
   "cell_type": "code",
   "execution_count": 6,
   "id": "c62e29b4",
   "metadata": {},
   "outputs": [
    {
     "data": {
      "text/plain": [
       "array([0, 1, 2, 3, 4, 5, 6, 7, 8, 9])"
      ]
     },
     "execution_count": 6,
     "metadata": {},
     "output_type": "execute_result"
    }
   ],
   "source": [
    "#Using np inbuilt array generation method instead\n",
    "#of creating a list first\n",
    "np.arange(0,10) #This returns an array with values \n",
    "#from 0-10. I can also pass a third argument to the \n",
    "#arrange function to specify the stepping value.\n"
   ]
  },
  {
   "cell_type": "code",
   "execution_count": 7,
   "id": "c3e4053d",
   "metadata": {},
   "outputs": [
    {
     "data": {
      "text/plain": [
       "array([0., 0., 0.])"
      ]
     },
     "execution_count": 7,
     "metadata": {},
     "output_type": "execute_result"
    }
   ],
   "source": [
    "np.zeros(3)#this generates a 1d array of 0 with 3values\n"
   ]
  },
  {
   "cell_type": "code",
   "execution_count": 8,
   "id": "99e44a37",
   "metadata": {},
   "outputs": [
    {
     "data": {
      "text/plain": [
       "array([[0., 0., 0., 0., 0.],\n",
       "       [0., 0., 0., 0., 0.],\n",
       "       [0., 0., 0., 0., 0.],\n",
       "       [0., 0., 0., 0., 0.],\n",
       "       [0., 0., 0., 0., 0.]])"
      ]
     },
     "execution_count": 8,
     "metadata": {},
     "output_type": "execute_result"
    }
   ],
   "source": [
    "np.zeros((5,5))#this generates a 2d array of 0 "
   ]
  },
  {
   "cell_type": "code",
   "execution_count": 10,
   "id": "7178b6e7",
   "metadata": {},
   "outputs": [
    {
     "data": {
      "text/plain": [
       "array([1., 1., 1.])"
      ]
     },
     "execution_count": 10,
     "metadata": {},
     "output_type": "execute_result"
    }
   ],
   "source": [
    "np.ones(3)"
   ]
  },
  {
   "cell_type": "code",
   "execution_count": 11,
   "id": "86c036c7",
   "metadata": {},
   "outputs": [
    {
     "data": {
      "text/plain": [
       "array([0.        , 0.55555556, 1.11111111, 1.66666667, 2.22222222,\n",
       "       2.77777778, 3.33333333, 3.88888889, 4.44444444, 5.        ])"
      ]
     },
     "execution_count": 11,
     "metadata": {},
     "output_type": "execute_result"
    }
   ],
   "source": [
    "#linspace returns an array with the number of the \n",
    "#specified third argument evenly spaced values\n",
    "np.linspace(0,5,10)#this code returns an array of 10\n",
    "#evenly spaced values between 0 and 5"
   ]
  },
  {
   "cell_type": "code",
   "execution_count": 12,
   "id": "ff72baaf",
   "metadata": {},
   "outputs": [
    {
     "data": {
      "text/plain": [
       "array([[1., 0., 0., 0.],\n",
       "       [0., 1., 0., 0.],\n",
       "       [0., 0., 1., 0.],\n",
       "       [0., 0., 0., 1.]])"
      ]
     },
     "execution_count": 12,
     "metadata": {},
     "output_type": "execute_result"
    }
   ],
   "source": [
    "#Identity matrix, this is used to generate a 2d array\n",
    "#this contains a diagonal row of 1s with remaining values\n",
    "#being 0. The returned array has equal size\n",
    "np.eye(4)"
   ]
  },
  {
   "cell_type": "code",
   "execution_count": 13,
   "id": "894902c5",
   "metadata": {},
   "outputs": [
    {
     "data": {
      "text/plain": [
       "array([0.48044144, 0.71176668, 0.78760633, 0.88526333, 0.6932634 ])"
      ]
     },
     "execution_count": 13,
     "metadata": {},
     "output_type": "execute_result"
    }
   ],
   "source": [
    "#np random generates an array with random values.\n",
    "#it has different methods \n",
    "np.random.rand(5)#this generates a 1d array of random\n",
    "#values between 0 and 1"
   ]
  },
  {
   "cell_type": "code",
   "execution_count": 14,
   "id": "943d11ee",
   "metadata": {},
   "outputs": [
    {
     "data": {
      "text/plain": [
       "array([[0.91184124, 0.13034607, 0.26502849, 0.37540006, 0.8570231 ],\n",
       "       [0.50307854, 0.46444015, 0.57009725, 0.84486616, 0.82363553],\n",
       "       [0.47859151, 0.07988963, 0.78757767, 0.78270985, 0.9270861 ],\n",
       "       [0.83606886, 0.86161658, 0.62969344, 0.90459371, 0.48277072],\n",
       "       [0.37584918, 0.26929253, 0.61679015, 0.28823943, 0.49396931]])"
      ]
     },
     "execution_count": 14,
     "metadata": {},
     "output_type": "execute_result"
    }
   ],
   "source": [
    "np.random.rand(5,5)#this generates a 2d"
   ]
  },
  {
   "cell_type": "code",
   "execution_count": 16,
   "id": "262c8a52",
   "metadata": {},
   "outputs": [
    {
     "data": {
      "text/plain": [
       "array([[-0.14711847,  0.76098753],\n",
       "       [ 0.07364372,  0.03743233]])"
      ]
     },
     "execution_count": 16,
     "metadata": {},
     "output_type": "execute_result"
    }
   ],
   "source": [
    "np.random.randn(2,2)#returns an array with a standard normal distribution"
   ]
  },
  {
   "cell_type": "code",
   "execution_count": null,
   "id": "97869b64",
   "metadata": {},
   "outputs": [],
   "source": []
  }
 ],
 "metadata": {
  "kernelspec": {
   "display_name": "Python 3",
   "language": "python",
   "name": "python3"
  },
  "language_info": {
   "codemirror_mode": {
    "name": "ipython",
    "version": 3
   },
   "file_extension": ".py",
   "mimetype": "text/x-python",
   "name": "python",
   "nbconvert_exporter": "python",
   "pygments_lexer": "ipython3",
   "version": "3.8.8"
  }
 },
 "nbformat": 4,
 "nbformat_minor": 5
}
