{
 "cells": [
  {
   "cell_type": "code",
   "execution_count": 14,
   "id": "21104f15",
   "metadata": {},
   "outputs": [],
   "source": [
    "currencies = ['usd','dutchmark', 'pounds', 'peso', 'rand', 'naira', 'kwacha', 'cedis']\n",
    "# one_usd = [0.98, 0.79, 53, 16, 500, 18, 8]\n",
    "\n",
    "# for currency, usd_rate in zip(currencies, one_usd):\n",
    "#     print(currency, usd_rate)"
   ]
  },
  {
   "cell_type": "code",
   "execution_count": 15,
   "id": "67b693b1",
   "metadata": {},
   "outputs": [],
   "source": [
    "# Code to convert to usd from the source currency\n",
    "def convert_to_usd(amount, currencyFrom):\n",
    "    usdValue = '' \n",
    "    if currencyFrom in currencies:\n",
    "        if currencyFrom == 'dutchmark':\n",
    "            usdValue = amount / 0.98\n",
    "        elif currencyFrom == 'pounds':\n",
    "            usdValue = amount / 0.79\n",
    "        elif currencyFrom == 'peso':\n",
    "            usdValue = amount / 53\n",
    "        elif currencyFrom == 'rand':\n",
    "            usdValue = amount / 16\n",
    "        elif currencyFrom == 'naira':\n",
    "            usdValue = amount / 500\n",
    "        elif currencyFrom == 'kwacha':\n",
    "            usdValue = amount / 18\n",
    "        elif currencyFrom == 'cedis':\n",
    "            usdValue = amount / 8\n",
    "        elif currencyFrom == 'usd':\n",
    "            usdValue = amount / 8\n",
    "    else:\n",
    "        print('Currency not available')\n",
    "    return usdValue"
   ]
  },
  {
   "cell_type": "code",
   "execution_count": 16,
   "id": "f9296754",
   "metadata": {},
   "outputs": [
    {
     "data": {
      "text/plain": [
       "20.0"
      ]
     },
     "execution_count": 16,
     "metadata": {},
     "output_type": "execute_result"
    }
   ],
   "source": [
    "convert_to_usd(10000, 'naira')"
   ]
  },
  {
   "cell_type": "code",
   "execution_count": 17,
   "id": "facd049d",
   "metadata": {},
   "outputs": [],
   "source": [
    "# Code to convert from usd to the desired currency and from the desired currency back to usd\n",
    "def convert_from_usd(amount, currencyFrom, currencyTo):\n",
    "    convertedValue = ''\n",
    "    if currencyTo in currencies:\n",
    "# if the currency I am converting to is my base currency, then just return the function above\n",
    "        if currencyTo == 'usd':\n",
    "            convertedValue = convert_to_usd(amount, currencyFrom)\n",
    "        elif currencyTo == 'dutchmark':\n",
    "# This block of code handles if the conversion is from USD to the particular currency\n",
    "\n",
    "            if currencyFrom == 'usd':\n",
    "                convertedValue = amount * 0.98\n",
    "            else:\n",
    "                convertedValue = convert_to_usd(amount, currencyFrom) * 0.98\n",
    "        elif currencyTo == 'pounds':\n",
    "# This block of code handles if the conversion is from USD to the particular currency\n",
    "            if currencyFrom == 'usd':\n",
    "                convertedValue = amount * 0.79\n",
    "            else:\n",
    "                convertedValue = convert_to_usd(amount, currencyFrom) * 0.79\n",
    "        elif currencyTo == 'peso':\n",
    "# This block of code handles if the conversion is from USD to the particular currency\n",
    "            if currencyFrom == 'usd':\n",
    "                convertedValue = amount * 53\n",
    "            else:\n",
    "                convertedValue = convert_to_usd(amount, currencyFrom) * 53\n",
    "        elif currencyTo == 'rand':\n",
    "# This block of code handles if the conversion is from USD to the particular currency\n",
    "            if currencyFrom == 'usd':\n",
    "                convertedValue = amount * 16\n",
    "            else:\n",
    "                convertedValue = convert_to_usd(amount, currencyFrom) * 16\n",
    "        elif currencyTo == 'naira':\n",
    "# This block of code handles if the conversion is from USD to the particular currency\n",
    "            if currencyFrom == 'usd':\n",
    "                convertedValue = amount * 500\n",
    "            else:\n",
    "                convertedValue = convert_to_usd(amount, currencyFrom) * 500\n",
    "        elif currencyTo == 'kwacha':\n",
    "# This block of code handles if the conversion is from USD to the particular currency\n",
    "            if currencyFrom == 'usd':\n",
    "                convertedValue = amount * 18\n",
    "            else:\n",
    "                convertedValue = convert_to_usd(amount, currencyFrom) * 18\n",
    "        elif currencyTo == 'cedis':\n",
    "# This block of code handles if the conversion is from USD to the particular currency\n",
    "            if currencyFrom == 'usd':\n",
    "                convertedValue = amount * 8\n",
    "            else:\n",
    "                convertedValue = convert_to_usd(amount, currencyFrom) * 8\n",
    "        elif currencyTo == 'usd':\n",
    "            convertedValue = convert_to_usd(amount, currencyFrom)\n",
    "    else:\n",
    "        print('Currency not available')\n",
    "    return convertedValue"
   ]
  },
  {
   "cell_type": "code",
   "execution_count": 18,
   "id": "657d65f1",
   "metadata": {},
   "outputs": [
    {
     "name": "stdout",
     "output_type": "stream",
     "text": [
      "Enter amount: 500\n",
      "Enter currency from: Naira\n",
      "Enter currency to: usd\n"
     ]
    },
    {
     "data": {
      "text/plain": [
       "1.0"
      ]
     },
     "execution_count": 18,
     "metadata": {},
     "output_type": "execute_result"
    }
   ],
   "source": [
    "amount = input('Enter amount:' + \" \")\n",
    "currencyFrom = input('Enter currency from:' + \" \")\n",
    "currencyTo = input('Enter currency to:' + \" \")\n",
    "convert_from_usd(int(amount), currencyFrom.lower(), currencyTo.lower())"
   ]
  }
 ],
 "metadata": {
  "kernelspec": {
   "display_name": "Python 3",
   "language": "python",
   "name": "python3"
  },
  "language_info": {
   "codemirror_mode": {
    "name": "ipython",
    "version": 3
   },
   "file_extension": ".py",
   "mimetype": "text/x-python",
   "name": "python",
   "nbconvert_exporter": "python",
   "pygments_lexer": "ipython3",
   "version": "3.8.8"
  }
 },
 "nbformat": 4,
 "nbformat_minor": 5
}
